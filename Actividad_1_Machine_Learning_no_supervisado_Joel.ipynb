{
  "nbformat": 4,
  "nbformat_minor": 0,
  "metadata": {
    "colab": {
      "private_outputs": true,
      "provenance": [],
      "authorship_tag": "ABX9TyPb/9NK/IU4VcBUKqhblA7m",
      "include_colab_link": true
    },
    "kernelspec": {
      "name": "python3",
      "display_name": "Python 3"
    },
    "language_info": {
      "name": "python"
    }
  },
  "cells": [
    {
      "cell_type": "markdown",
      "metadata": {
        "id": "view-in-github",
        "colab_type": "text"
      },
      "source": [
        "<a href=\"https://colab.research.google.com/github/Joelss23/Proyectos-y-Actividades/blob/main/Actividad_1_Machine_Learning_no_supervisado_Joel.ipynb\" target=\"_parent\"><img src=\"https://colab.research.google.com/assets/colab-badge.svg\" alt=\"Open In Colab\"/></a>"
      ]
    },
    {
      "cell_type": "markdown",
      "source": [
        "#1. Librerias"
      ],
      "metadata": {
        "id": "eBXZIskdPkly"
      }
    },
    {
      "cell_type": "code",
      "execution_count": null,
      "metadata": {
        "id": "IDYNZEazPeTp"
      },
      "outputs": [],
      "source": [
        "import pandas as pd\n",
        "import numpy as np\n",
        "import matplotlib.pyplot as plt\n",
        "import seaborn as sns\n",
        "from sklearn.preprocessing import StandardScaler\n",
        "from sklearn.cluster import KMeans\n",
        "from sklearn.decomposition import PCA"
      ]
    },
    {
      "cell_type": "markdown",
      "source": [
        "#2. Cargar Datos"
      ],
      "metadata": {
        "id": "TpHU1UtVPxyN"
      }
    },
    {
      "cell_type": "code",
      "source": [
        "df = pd.read_csv('customer-entrenamiento.csv')"
      ],
      "metadata": {
        "id": "V4InCRK_Pzlk"
      },
      "execution_count": null,
      "outputs": []
    },
    {
      "cell_type": "markdown",
      "source": [
        "#3. Analisis Inicial: Entendimiento del negocio"
      ],
      "metadata": {
        "id": "tA9TUhmRP-j2"
      }
    },
    {
      "cell_type": "markdown",
      "source": [
        "Objetivo: Segmentar clientes para una gestion personalizada de marketing y ventas"
      ],
      "metadata": {
        "id": "c5IWOMMSSQPQ"
      }
    },
    {
      "cell_type": "code",
      "source": [
        "display(df.head())"
      ],
      "metadata": {
        "id": "AVm5ExiwP-CK"
      },
      "execution_count": null,
      "outputs": []
    },
    {
      "cell_type": "code",
      "source": [
        "print(df.info())"
      ],
      "metadata": {
        "id": "wACsiOUJQGyM"
      },
      "execution_count": null,
      "outputs": []
    },
    {
      "cell_type": "code",
      "source": [
        "print(df.describe())"
      ],
      "metadata": {
        "id": "cq9tgu1pQJXY"
      },
      "execution_count": null,
      "outputs": []
    },
    {
      "cell_type": "markdown",
      "source": [
        "#4. Preparacion de los datos"
      ],
      "metadata": {
        "id": "A1pUbFDBSoqI"
      }
    },
    {
      "cell_type": "markdown",
      "source": [
        "##Eliminacion de valores nulos y escalado"
      ],
      "metadata": {
        "id": "KjpV4iviQOnv"
      }
    },
    {
      "cell_type": "code",
      "source": [
        "scaler = StandardScaler()\n",
        "df_scaled = scaler.fit_transform(df.select_dtypes(include=[np.number]))"
      ],
      "metadata": {
        "id": "VycWUoTWQND6"
      },
      "execution_count": null,
      "outputs": []
    },
    {
      "cell_type": "markdown",
      "source": [
        "#5. Modelado"
      ],
      "metadata": {
        "id": "lJeZk94USxIl"
      }
    },
    {
      "cell_type": "markdown",
      "source": [
        "##Seleccion del numero optimo de clusters usando el metodo del codo"
      ],
      "metadata": {
        "id": "-t6heRf-QYds"
      }
    },
    {
      "cell_type": "code",
      "source": [
        "cuadrados = []\n",
        "for i in range(1, 11):\n",
        "    kmeans = KMeans(n_clusters=i, random_state=42, n_init=10)\n",
        "    kmeans.fit(df_scaled)\n",
        "    cuadrados.append(kmeans.inertia_)\n",
        "\n",
        "plt.figure(figsize=(8, 5))\n",
        "plt.plot(range(1, 11), cuadrados, marker='o')\n",
        "plt.xlabel('Numero de Clusters')\n",
        "plt.ylabel('Suma de Cuadrados')\n",
        "plt.title('Metodo del Codo')\n",
        "plt.show()\n"
      ],
      "metadata": {
        "id": "JteJR9EaQefn"
      },
      "execution_count": null,
      "outputs": []
    },
    {
      "cell_type": "markdown",
      "source": [
        "##K-Means con el numero óptimo de clusters (4)\n"
      ],
      "metadata": {
        "id": "i9RAK3pLQ6pK"
      }
    },
    {
      "cell_type": "code",
      "source": [
        "kmeans = KMeans(n_clusters=4, random_state=42, n_init=10)\n",
        "df['Cluster'] = kmeans.fit_predict(df_scaled)"
      ],
      "metadata": {
        "id": "5RZRZUkkQ-23"
      },
      "execution_count": null,
      "outputs": []
    },
    {
      "cell_type": "markdown",
      "source": [
        "#6. Evaluacion del modelo"
      ],
      "metadata": {
        "id": "rxuX7DwrS7dT"
      }
    },
    {
      "cell_type": "markdown",
      "source": [
        "##Reduccion de dimensionalidad"
      ],
      "metadata": {
        "id": "yrTv_knUQ-lr"
      }
    },
    {
      "cell_type": "code",
      "source": [
        "pca = PCA(n_components=2)\n",
        "pca_result = pca.fit_transform(df_scaled)\n",
        "df['PCA1'] = pca_result[:, 0]\n",
        "df['PCA2'] = pca_result[:, 1]"
      ],
      "metadata": {
        "id": "EQ0bLJcNREzX"
      },
      "execution_count": null,
      "outputs": []
    },
    {
      "cell_type": "markdown",
      "source": [
        "##Visualizacion de los clusters"
      ],
      "metadata": {
        "id": "SgaetNg8RMgp"
      }
    },
    {
      "cell_type": "code",
      "source": [
        "plt.figure(figsize=(8, 5))\n",
        "sns.scatterplot(x='PCA1', y='PCA2', hue=df['Cluster'], palette='viridis', data=df)\n",
        "plt.title('Clusters de Clientes')\n",
        "plt.show()"
      ],
      "metadata": {
        "id": "mKaMefxtRL6H"
      },
      "execution_count": null,
      "outputs": []
    },
    {
      "cell_type": "markdown",
      "source": [
        "##Analisis de los clusters\n"
      ],
      "metadata": {
        "id": "NUS-u9pRRUgX"
      }
    },
    {
      "cell_type": "code",
      "source": [
        "resumen_cluster = df.groupby('Cluster').mean()\n",
        "print(resumen_cluster)"
      ],
      "metadata": {
        "id": "BQX0uJVFRWNU"
      },
      "execution_count": null,
      "outputs": []
    },
    {
      "cell_type": "markdown",
      "source": [
        "#7. Recomendaciones segun los clusters"
      ],
      "metadata": {
        "id": "5SpIc1UZRZaW"
      }
    },
    {
      "cell_type": "code",
      "source": [
        "recomendaciones = {\n",
        "    0: 'Clientes premium - Ofrecer servicios exclusivos',\n",
        "    1: 'Clientes regulares - Incentivar compras con descuentos',\n",
        "    2: 'Clientes nuevos - Enviar promociones de bienvenida',\n",
        "    3: 'Clientes inactivos - Conectar con campañas de email'\n",
        "}\n",
        "\n",
        "for cluster, rec in recomendaciones.items():\n",
        "    print(f'Cluster {cluster}: {rec}')"
      ],
      "metadata": {
        "id": "iF2vrJ42RcPH"
      },
      "execution_count": null,
      "outputs": []
    }
  ]
}