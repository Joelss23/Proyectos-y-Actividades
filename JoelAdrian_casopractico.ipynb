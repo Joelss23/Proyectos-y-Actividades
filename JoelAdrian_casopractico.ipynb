{
  "nbformat": 4,
  "nbformat_minor": 0,
  "metadata": {
    "colab": {
      "provenance": [],
      "include_colab_link": true
    },
    "kernelspec": {
      "name": "python3",
      "display_name": "Python 3"
    },
    "language_info": {
      "name": "python"
    }
  },
  "cells": [
    {
      "cell_type": "markdown",
      "metadata": {
        "id": "view-in-github",
        "colab_type": "text"
      },
      "source": [
        "<a href=\"https://colab.research.google.com/github/Joelss23/Proyectos-y-Actividades/blob/main/JoelAdrian_casopractico.ipynb\" target=\"_parent\"><img src=\"https://colab.research.google.com/assets/colab-badge.svg\" alt=\"Open In Colab\"/></a>"
      ]
    },
    {
      "cell_type": "markdown",
      "source": [
        "#Ejercicio 1: Lectura y Pasos Previos"
      ],
      "metadata": {
        "id": "_gaLsZOwBqgu"
      }
    },
    {
      "cell_type": "markdown",
      "source": [
        "###1. Leerlo como un dataframe (con la librería pandas) y llamarlo df_santander"
      ],
      "metadata": {
        "id": "0K2Fs8lyC97y"
      }
    },
    {
      "cell_type": "code",
      "execution_count": null,
      "metadata": {
        "id": "WcVvQ3jdA3Ho"
      },
      "outputs": [],
      "source": [
        "#Importar librerias\n",
        "import pandas as pd\n",
        "pd.options.display.max_columns = None\n",
        "\n",
        "#Leer archivo\n",
        "df_santander = pd.read_csv('data_santander_red.csv')\n",
        "\n",
        "#Vista previa de los datos\n",
        "df_santander.head()"
      ]
    },
    {
      "cell_type": "markdown",
      "source": [
        "##2. Observar los tipos de datos y cambiar “ind_viv_fin_ult1” a tipo float64 (astype(float)), ya que pretendemos usarlo en fases posteriores y se requiere que sea numérico"
      ],
      "metadata": {
        "id": "JE_0BzepDCfs"
      }
    },
    {
      "cell_type": "code",
      "source": [
        "#Mostrar los tipos de datos\n",
        "print(\"Tipos de datos de dataset:\\n\")\n",
        "print(df_santander.dtypes)"
      ],
      "metadata": {
        "id": "wzt-wRpcCgsn"
      },
      "execution_count": null,
      "outputs": []
    },
    {
      "cell_type": "code",
      "source": [
        "#Cambiar columna a float\n",
        "df_santander['ind_viv_fin_ult1'] = df_santander['ind_viv_fin_ult1'].astype(float)\n",
        "\n",
        "#Mostrar los tipos de datos actualizados\n",
        "print(\"Tipos de datos de dataset:\\n\")\n",
        "print(df_santander.dtypes)"
      ],
      "metadata": {
        "id": "oV7DX4cmDHlR"
      },
      "execution_count": null,
      "outputs": []
    },
    {
      "cell_type": "markdown",
      "source": [
        "##3. Analisis Inicial"
      ],
      "metadata": {
        "id": "jMdDhff5DybN"
      }
    },
    {
      "cell_type": "code",
      "source": [
        "#¿Disponemos de un conjunto de datos suficientemente grande para nuestro objetivo?\n",
        "print(\"\\nNumero de filas y columnas:\")\n",
        "print(df_santander.shape)"
      ],
      "metadata": {
        "id": "GRFiXyb-D8cc"
      },
      "execution_count": null,
      "outputs": []
    },
    {
      "cell_type": "code",
      "source": [
        "#¿Nos faltan variables que podrían ser interesantes?\n",
        "print(\"\\nColumnas en el conjunto de datos:\")\n",
        "print(df_santander.columns)"
      ],
      "metadata": {
        "id": "szkURv8SEY2r"
      },
      "execution_count": null,
      "outputs": []
    },
    {
      "cell_type": "code",
      "source": [
        "#¿Existe alguna variable que no sepamos lo que significa?\n",
        "print(\"\\nValores nulos:\")\n",
        "print(df_santander.isnull().sum())"
      ],
      "metadata": {
        "id": "hipUEPjfEm77"
      },
      "execution_count": null,
      "outputs": []
    },
    {
      "cell_type": "code",
      "source": [
        "#¿Alguna de las variables que tenemos tiene un tipo raro?\n",
        "Columnas_nonum= df_santander.select_dtypes(include=['object']).columns\n",
        "print(\"\\nColumnas no numericas:\")\n",
        "print(Columnas_nonum)"
      ],
      "metadata": {
        "id": "Qijp3fSME5B-"
      },
      "execution_count": null,
      "outputs": []
    },
    {
      "cell_type": "markdown",
      "source": [
        "##4. Revisar el número de provincias que existen en los datos y compararlo con las provincias de España, ¿falta alguna? (df_santander['nomprov'].nunique())"
      ],
      "metadata": {
        "id": "jvEkuyO4Fr1L"
      }
    },
    {
      "cell_type": "code",
      "source": [
        "#Identificar las provincias de Espana en el dataset\n",
        "if 'nomprov' in df_santander.columns:\n",
        "    num_provincias = df_santander['nomprov'].nunique()\n",
        "    print(f\"\\nNumero de provincias en los datos: {num_provincias}\")\n",
        "\n",
        "#Provincias de España\n",
        "    provincias_espana = [\n",
        "    \"ALAVA\", \"ALBACETE\", \"ALICANTE\", \"ALMERIA\", \"ASTURIAS\", \"AVILA\", \"BADAJOZ\", \"BARCELONA\", \"BURGOS\",\n",
        "    \"CACERES\", \"CADIZ\", \"CANTABRIA\", \"CASTELLON\", \"CIUDAD REAL\", \"CORDOBA\", \"LA CORUNA\", \"CUENCA\",\n",
        "    \"GERONA\", \"GRANADA\", \"GUADALAJARA\", \"GUIPUZCOA\", \"HUELVA\", \"HUESCA\", \"ISLAS BALEARES\", \"JAEN\",\n",
        "    \"LEON\", \"LERIDA\", \"LUGO\", \"MADRID\", \"MALAGA\", \"MURCIA\", \"NAVARRA\", \"ORENSE\", \"PALENCIA\", \"LAS PALMAS\",\n",
        "    \"PONTEVEDRA\", \"LA RIOJA\", \"SALAMANCA\", \"SEGOVIA\", \"SEVILLA\", \"SORIA\", \"TARRAGONA\", \"SANTA CRUZ DE TENERIFE\",\n",
        "    \"TERUEL\", \"TOLEDO\", \"VALENCIA\", \"VALLADOLID\", \"VIZCAYA\", \"ZAMORA\", \"ZARAGOZA\"\n",
        "]\n",
        "    print(f\"Provincias oficiales de Espana: {len(provincias_espana)}\")\n",
        "\n",
        "#Provincias faltantes o adicionales en los datos\n",
        "    provincias_datos = df_santander['nomprov'].unique()\n",
        "    faltantes = set(provincias_espana) - set(provincias_datos)\n",
        "    adicionales = set(provincias_datos) - set(provincias_espana)\n",
        "    print(f\"Provincias faltantes: {faltantes}\")\n",
        "    print(f\"Provincias adicionales en los datos: {adicionales}\")"
      ],
      "metadata": {
        "id": "p3UzzXg5FzRk"
      },
      "execution_count": null,
      "outputs": []
    },
    {
      "cell_type": "markdown",
      "source": [
        "##5. Ordena las provincias alfabéticamente y luego calcula los valores únicos (unique())"
      ],
      "metadata": {
        "id": "XBEYVbfOHg4e"
      }
    },
    {
      "cell_type": "code",
      "source": [
        "provincias_ordenadas = sorted(df_santander['nomprov'].dropna().unique())\n",
        "print(\"\\nProvincias ordenadas alfabeticamente:\")\n",
        "print(provincias_ordenadas)"
      ],
      "metadata": {
        "id": "uM_SG56hHDS1"
      },
      "execution_count": null,
      "outputs": []
    },
    {
      "cell_type": "markdown",
      "source": [
        "##6. Revisa si los datos de los clientes que tenemos están homogéneamente distribuidos en España o se centran más en algunas provincias que en otras."
      ],
      "metadata": {
        "id": "pmzmj1J3MR-0"
      }
    },
    {
      "cell_type": "code",
      "source": [
        "print(\"\\nDistribucion de clientes por provincia:\")\n",
        "distribucion_clientes = df_santander['nomprov'].value_counts()\n",
        "print(distribucion_clientes)"
      ],
      "metadata": {
        "id": "zANMA-e3MVP9"
      },
      "execution_count": null,
      "outputs": []
    },
    {
      "cell_type": "markdown",
      "source": [
        "##7. Identificar el formato del dataset"
      ],
      "metadata": {
        "id": "rAjN9BarMU9o"
      }
    },
    {
      "cell_type": "code",
      "source": [
        "print(\"\\nFormato del dataset:\")\n",
        "print(df_santander.info())"
      ],
      "metadata": {
        "id": "CkO4hjQhM9bh"
      },
      "execution_count": null,
      "outputs": []
    },
    {
      "cell_type": "markdown",
      "source": [
        "##8. Dividir la muestra de train (train_santander_red) y test (test_santander_red) en una proporción 70%-30%."
      ],
      "metadata": {
        "id": "m7uYJf7PM_9W"
      }
    },
    {
      "cell_type": "code",
      "source": [
        "from sklearn.model_selection import train_test_split\n",
        "\n",
        "train_santander_red, test_santander_red = train_test_split(df_santander, test_size=0.3, random_state=42)\n",
        "print(\"\\nTamaños del conjunto de datos:\")\n",
        "print(f\"Train: {train_santander_red.shape}\")\n",
        "print(f\"Test: {test_santander_red.shape}\")"
      ],
      "metadata": {
        "id": "eSyL8XTmNC66"
      },
      "execution_count": null,
      "outputs": []
    },
    {
      "cell_type": "markdown",
      "source": [
        "#Ejercicio 2: Limpieza y Analisis descriptivo"
      ],
      "metadata": {
        "id": "4k6IU7PRNYmB"
      }
    },
    {
      "cell_type": "markdown",
      "source": [
        "##9. Datos Missing\n",
        "\n"
      ],
      "metadata": {
        "id": "GGXxO_HqNf70"
      }
    },
    {
      "cell_type": "code",
      "source": [
        "import numpy as np\n",
        "import matplotlib.pyplot as plt\n",
        "\n",
        "#Tipos de datos faltantes\n",
        "faltantesv = df_santander.isnull().sum()\n",
        "faltantesporcen = (faltantesv / len(df_santander)) * 100\n",
        "\n",
        "print(\"\\nPorcentaje de valores faltantes por columna:\")\n",
        "print(faltantesporcen)"
      ],
      "metadata": {
        "id": "9uOWRR1TNeCM"
      },
      "execution_count": null,
      "outputs": []
    },
    {
      "cell_type": "code",
      "source": [
        "#Graficar datos faltantes\n",
        "faltantesporcen.plot(kind='bar', figsize=(12, 6), color='skyblue')\n",
        "plt.title(\"Porcentaje de valores faltantes por columna\")\n",
        "plt.ylabel(\"% de valores faltantes\")\n",
        "plt.xlabel(\"Variables\")\n",
        "plt.show()"
      ],
      "metadata": {
        "id": "aShkZfdNPRxy"
      },
      "execution_count": null,
      "outputs": []
    },
    {
      "cell_type": "code",
      "source": [
        "#Anadir valores faltantes con la media\n",
        "for column in df_santander.select_dtypes(include=['float64', 'int64']).columns:\n",
        "    mean_value = df_santander[column].mean()\n",
        "    df_santander[column].fillna(mean_value, inplace=True)\n",
        "\n",
        "print(\"\\nValores faltantes\")\n",
        "print(df_santander.isnull().sum())"
      ],
      "metadata": {
        "id": "mI-8c_yKO0L8"
      },
      "execution_count": null,
      "outputs": []
    },
    {
      "cell_type": "code",
      "source": [
        "#Graficar datos faltantes\n",
        "faltantesporcen.plot(kind='bar', figsize=(12, 6), color='skyblue')\n",
        "plt.title(\"Porcentaje de valores faltantes por columna\")\n",
        "plt.ylabel(\"% de valores faltantes\")\n",
        "plt.xlabel(\"Variables\")\n",
        "plt.show()"
      ],
      "metadata": {
        "id": "9IpJy2ardfIG"
      },
      "execution_count": null,
      "outputs": []
    },
    {
      "cell_type": "code",
      "source": [
        "#Reemplazar \"NA\" y corregir valores en edad y antiguedad\n",
        "for col in ['age', 'antiguedad']:\n",
        "    if col in df_santander.columns:\n",
        "\n",
        "#Eliminar espacios y reemplazar \"NA\" o valores vacíos con np.NaN\n",
        "        df_santander[col] = df_santander[col].astype(str).str.strip().replace({'NA': np.nan, '': np.nan})\n",
        "\n",
        "#Convertir a tipo float\n",
        "        df_santander[col] = pd.to_numeric(df_santander[col], errors='coerce')\n",
        "\n",
        "#Cambiar 106 a nan\n",
        "df_santander.loc[df_santander['antiguedad'] == 106, 'antiguedad'] = np.nan\n",
        "\n",
        "#Verificar las antiguedades\n",
        "antiguedad_unicos = sorted(df_santander['antiguedad'].dropna().unique())\n",
        "print(antiguedad_unicos)\n"
      ],
      "metadata": {
        "id": "f5FXtMUAP1Pn"
      },
      "execution_count": null,
      "outputs": []
    },
    {
      "cell_type": "code",
      "source": [
        "#Cambiar 157 tambien\n",
        "df_santander.loc[df_santander['antiguedad'] == 157, 'antiguedad'] = np.nan\n",
        "\n",
        "#Verificar las antiguedades\n",
        "antiguedad_unicos = sorted(df_santander['antiguedad'].dropna().unique())\n",
        "print(antiguedad_unicos)"
      ],
      "metadata": {
        "id": "LmOM4wrkZfX4"
      },
      "execution_count": null,
      "outputs": []
    },
    {
      "cell_type": "code",
      "source": [
        "#Si hay alguna variable que este completamente vacia eliminarla\n",
        "columnas_vacias = df_santander.columns[df_santander.isnull().all()]\n",
        "print(\"\\nColumnas vacias eliminadas:\", columnas_vacias.tolist())\n",
        "df_santander.drop(columns=columnas_vacias, inplace=True)"
      ],
      "metadata": {
        "id": "8S9vPlYYQVex"
      },
      "execution_count": null,
      "outputs": []
    },
    {
      "cell_type": "markdown",
      "source": [
        "##10. Estadistica Descriptiva"
      ],
      "metadata": {
        "id": "9rVoGrX4Q5Rs"
      }
    },
    {
      "cell_type": "code",
      "source": [
        "from scipy.stats import skew, kurtosis\n",
        "\n",
        "#Asegurar que las columnas sean numericas\n",
        "for col in ['age', 'renta']:\n",
        "    if col in df_santander.columns:\n",
        "        df_santander[col] = pd.to_numeric(df_santander[col], errors='coerce')\n",
        "\n",
        "#Estadistica descriptiva para Edad y Renta\n",
        "for col in ['age', 'renta']:\n",
        "    if col in df_santander.columns:\n",
        "        print(f\"\\nEstadisticas descriptivas para {col}:\")\n",
        "        col_data = df_santander[col].dropna()\n",
        "        print(f\"Media: {col_data.mean():.2f}\")\n",
        "        print(f\"Mediana: {col_data.median():.2f}\")\n",
        "        print(f\"Desviacion estandar: {col_data.std():.2f}\")\n",
        "        print(f\"Rango: {col_data.max() - col_data.min():.2f}\")\n",
        "        print(f\"Rango intercuartil (IQR): {col_data.quantile(0.75) - col_data.quantile(0.25):.2f}\")\n",
        "        print(f\"Asimetria: {skew(col_data):.2f}\")\n",
        "        print(f\"Curtosis: {kurtosis(col_data):.2f}\")"
      ],
      "metadata": {
        "id": "1Ul8KUInQ9xT"
      },
      "execution_count": null,
      "outputs": []
    },
    {
      "cell_type": "code",
      "source": [
        "pd.set_option('display.float_format', '{:,.2f}'.format)\n",
        "#Analisis para ninos de 4 anos\n",
        "ninos4 = df_santander[df_santander['age'] == 4]\n",
        "print(\"\\nEstadisticas para niños de 4 anos:\")\n",
        "print(ninos4[['age', 'renta']].describe())"
      ],
      "metadata": {
        "id": "r_BD1_yGSndJ"
      },
      "execution_count": null,
      "outputs": []
    },
    {
      "cell_type": "markdown",
      "source": [
        "Analisis resultados: Es probable que estos datos sean errores de registro donde la edad del representante se asigno incorrectamente como 4 anos, o se usaron datos del menor en lugar del adulto responsable"
      ],
      "metadata": {
        "id": "hy_ttTUaU1uf"
      }
    },
    {
      "cell_type": "code",
      "source": [
        "pd.set_option('display.float_format', '{:,.2f}'.format)\n",
        "#Estadisticas para mujeres\n",
        "mujeres = df_santander[(df_santander['sexo'] == 'H') & (df_santander['age'] >= 0)]\n",
        "print(\"\\nEstadisticas para mujeres:\")\n",
        "print(mujeres[['age', 'renta']].describe())"
      ],
      "metadata": {
        "id": "gEbXTGkqTK8Q"
      },
      "execution_count": null,
      "outputs": []
    },
    {
      "cell_type": "markdown",
      "source": [
        "Analisis de resultados: La mediana esta en 25 años, y el percentil 75 alcanza los 29 años, confirmando que el grupo esta compuesto principalmente por personas menores de 30 años, que pueden ser estudiantes o personas que estan iniciando su carrera profesional.\n",
        "\n",
        "La mayoría del grupo tiene ingresos altos, pero la gran dispersión indica la presencia de clientes con ingresos extremadamente altos que deben ser evaluados para evitar sesgos en el analisis.\n"
      ],
      "metadata": {
        "id": "fGwQVewuWl8m"
      }
    },
    {
      "cell_type": "markdown",
      "source": [
        "##11. Indentificacion de outliers"
      ],
      "metadata": {
        "id": "WZ58KSJNY6ot"
      }
    },
    {
      "cell_type": "code",
      "source": [
        "#Calculo de percentiles, IQR y limites para outliers\n",
        "for col in ['age', 'renta']:\n",
        "    if col in df_santander.columns:\n",
        "        col_data = df_santander[col].dropna()\n",
        "        Q1 = col_data.quantile(0.05)\n",
        "        Q3 = col_data.quantile(0.95)\n",
        "        IQR = Q3 - Q1\n",
        "        lower_limit = Q1 - 1.5 * IQR\n",
        "        upper_limit = Q3 + 1.5 * IQR\n",
        "\n",
        "#Identificar outliers\n",
        "        outliers = col_data[(col_data < lower_limit) | (col_data > upper_limit)]\n",
        "        print(f\"\\nOutliers en {col}:\")\n",
        "        print(f\"Q1 (0.05): {Q1}, Q3 (0.95): {Q3}\")\n",
        "        print(f\"Límite inferior: {lower_limit}, Límite superior: {upper_limit}\")\n",
        "        print(f\"Número de outliers: {len(outliers)}\")"
      ],
      "metadata": {
        "id": "5tBFwabwY-pD"
      },
      "execution_count": null,
      "outputs": []
    },
    {
      "cell_type": "markdown",
      "source": [
        "#Ejercicio 3 Visualizacion y Otros"
      ],
      "metadata": {
        "id": "nGlfZiD1ZRcV"
      }
    },
    {
      "cell_type": "markdown",
      "source": [
        "##12. Analisis de correlaciones"
      ],
      "metadata": {
        "id": "veEflMdC34Uw"
      }
    },
    {
      "cell_type": "code",
      "source": [
        "#Crear un diccionario con los nombres originales y los nuevos nombres\n",
        "renombrar_columnas = {\n",
        "    \"ind_ahor_fin_ult1\": \"Saving Account\",\n",
        "    \"ind_aval_fin_ult1\": \"Guarantees\",\n",
        "    \"ind_cco_fin_ult1\": \"Current Accounts\",\n",
        "    \"ind_cder_fin_ult1\": \"Derivada Account\",\n",
        "    \"ind_cno_fin_ult1\": \"Payroll Account\",\n",
        "    \"ind_ctju_fin_ult1\": \"Junior Account\",\n",
        "    \"ind_ctma_fin_ult1\": \"Mas particular Account\",\n",
        "    \"ind_ctop_fin_ult1\": \"particular Account\",\n",
        "    \"ind_ctpp_fin_ult1\": \"particular Plus Account\",\n",
        "    \"ind_deco_fin_ult1\": \"Short-term deposits\",\n",
        "    \"ind_deme_fin_ult1\": \"Medium-term deposits\",\n",
        "    \"ind_dela_fin_ult1\": \"Long-term deposits\",\n",
        "    \"ind_ecue_fin_ult1\": \"e-account\",\n",
        "    \"ind_fond_fin_ult1\": \"Funds\",\n",
        "    \"ind_hip_fin_ult1\": \"Mortgage\",\n",
        "    \"ind_plan_fin_ult1c\": \"Pensions\",\n",
        "    \"ind_pres_fin_ult1\": \"Loans\",\n",
        "    \"ind_reca_fin_ult1\": \"Taxes\",\n",
        "    \"ind_tjcr_fin_ult1\": \"Credit Card\",\n",
        "    \"ind_valo_fin_ult1\": \"Securities\",\n",
        "    \"ind_viv_fin_ult1\": \"Home Account\",\n",
        "    \"ind_nomina_ult1\": \"Payroll\",\n",
        "    \"ind_nom_pens_ult1\": \"Pensions\",\n",
        "    \"ind_recibo_ult1\": \"Direct Debit\"\n",
        "}\n",
        "\n",
        "#Renombrar las columnas del dataset\n",
        "df_santander = df_santander.rename(columns=renombrar_columnas)"
      ],
      "metadata": {
        "id": "1WdX3L-KkBPp"
      },
      "execution_count": null,
      "outputs": []
    },
    {
      "cell_type": "code",
      "source": [
        "#Crear variable con todos los productos bancarios\n",
        "productos_bancarios = [\n",
        "    \"Saving Account\",\"Guarantees\",\"Current Accounts\",\"Derivada Account\",\"Payroll Account\",\"Junior Account\",\n",
        "    \"Mas particular Account\",\"particular Account\",\"particular Plus Account\",\"Short-term deposits\",\"Medium-term deposits\",\n",
        "    \"Long-term deposits\",\"e-account\",\"Funds\",\"Mortgage\",\"Pensions\",\"Loans\",\"Taxes\",\"Credit Card\",\"Securities\",\n",
        "    \"Home Account\",\"Payroll\",\"Pensions\",\"Direct Debit\"\n",
        "]\n",
        "\n",
        "#Validar columnas en el data set\n",
        "columnas_validas = [col for col in productos_bancarios if col in df_santander.columns]\n",
        "\n",
        "#Crear nueva columna\n",
        "df_santander['productos_bancarios'] = df_santander[columnas_validas].sum(axis=1)\n",
        "\n",
        "#Vista de la nueva columna\n",
        "print(df_santander[['productos_bancarios']])"
      ],
      "metadata": {
        "id": "2dx6zzIa4n_4"
      },
      "execution_count": null,
      "outputs": []
    },
    {
      "cell_type": "code",
      "source": [
        "#Filtrar las columnas de productos bancarios y agregar la columna edad\n",
        "columnas_correlacion = columnas_validas + ['age']\n",
        "\n",
        "#Calcular matriz de correlacion\n",
        "correlation_matrix = df_santander[columnas_correlacion].corr()\n",
        "\n",
        "#Extraer las correlaciones con la edad\n",
        "correlaciones_edad = correlation_matrix['age'].drop('age')\n",
        "\n",
        "#Mostrar correlaciones\n",
        "print(\"Correlaciones entre edad y productos bancarios:\")\n",
        "print(correlaciones_edad)"
      ],
      "metadata": {
        "id": "DC0aPuSXhnBp"
      },
      "execution_count": null,
      "outputs": []
    },
    {
      "cell_type": "code",
      "source": [
        "#Visualizar correlaciones\n",
        "plt.figure(figsize=(10, 6))\n",
        "correlaciones_edad.sort_values().plot(kind='barh', color='skyblue')\n",
        "plt.title(\"Correlacion de la edad con los productos bancarios\")\n",
        "plt.xlabel(\"Coeficiente de correlacion\")\n",
        "plt.ylabel(\"Productos bancarios\")\n",
        "plt.show()"
      ],
      "metadata": {
        "id": "wl6aDgr1gs9D"
      },
      "execution_count": null,
      "outputs": []
    },
    {
      "cell_type": "markdown",
      "source": [
        "##13. Matriz de correlaciones"
      ],
      "metadata": {
        "id": "1ZVQMTRE54RM"
      }
    },
    {
      "cell_type": "code",
      "source": [
        "import seaborn as sns\n",
        "import matplotlib.pyplot as plt\n",
        "\n",
        "#Calcular la matriz de correlacion para los productos bancarios\n",
        "matriz_corr_productos = df_santander[columnas_validas].corr()\n",
        "\n",
        "#Visualizar la matriz de correlacion con un mapa de calor\n",
        "plt.figure(figsize=(12, 10))\n",
        "sns.heatmap(\n",
        "    matriz_corr_productos,\n",
        "    annot=False,\n",
        "    cmap=\"coolwarm\",\n",
        "    cbar=True\n",
        ")\n",
        "plt.title(\"Matriz de correlacion entre productos bancarios\")\n",
        "plt.show()"
      ],
      "metadata": {
        "id": "SN6SE3PL5704"
      },
      "execution_count": null,
      "outputs": []
    },
    {
      "cell_type": "markdown",
      "source": [
        "## 14. Analisis cluster sobre las variables de “age” y “renta”"
      ],
      "metadata": {
        "id": "oWhSIIpz6M_z"
      }
    },
    {
      "cell_type": "code",
      "source": [
        "from sklearn.cluster import KMeans\n",
        "from sklearn.preprocessing import StandardScaler\n",
        "import matplotlib.pyplot as plt\n",
        "import matplotlib.ticker as ticker\n",
        "\n",
        "#Convertir edad a float\n",
        "df_santander['age'] = pd.to_numeric(df_santander['age'], errors='coerce')\n",
        "\n",
        "#Valores faltantes con la media para edad y renta\n",
        "df_santander['age'].fillna(df_santander['age'].mean(), inplace=True)\n",
        "df_santander['renta'].fillna(df_santander['renta'].mean(), inplace=True)\n",
        "\n",
        "#Seleccionar las variables para el clustering\n",
        "X = df_santander[['age', 'renta']]\n",
        "\n",
        "#Normalizar las variables\n",
        "scaler = StandardScaler()\n",
        "X_scaled = scaler.fit_transform(X)\n",
        "\n",
        "#Realizar el clustering con KMeans\n",
        "kmeans = KMeans(n_clusters=2, random_state=42)\n",
        "df_santander['cluster'] = kmeans.fit_predict(X_scaled)\n",
        "\n",
        "#Grafica del clustering\n",
        "plt.figure(figsize=(10, 6))\n",
        "plt.scatter(df_santander['age'], df_santander['renta'], c=df_santander['cluster'], cmap='viridis', alpha=0.6)\n",
        "plt.xlabel('Edad')\n",
        "plt.ylabel('Renta')\n",
        "plt.title('Analisis Clustering de Edad y Renta')\n",
        "\n",
        "#Convertir Renta a euros\n",
        "plt.gca().yaxis.set_major_formatter(ticker.FuncFormatter(lambda x, _: f'€{x:,.0f}'))\n",
        "plt.colorbar(label='Cluster')\n",
        "plt.show()"
      ],
      "metadata": {
        "id": "AsFAtSxO6S81"
      },
      "execution_count": null,
      "outputs": []
    },
    {
      "cell_type": "markdown",
      "source": [
        "## 15. Crear varablie \"numero_productos\""
      ],
      "metadata": {
        "id": "ike9IRSf81mi"
      }
    },
    {
      "cell_type": "code",
      "source": [
        "#Lista de productos consumidos\n",
        "cols = [\n",
        "    \"Credit Card\", \"Taxes\", \"Pensions\", \"Loans\",\n",
        "    \"Mortgage\", \"Funds\", \"e-account\", \"Long-term deposits\",\n",
        "    \"Medium-term deposits\", \"Short-term deposits\", \"particular Plus Account\", \"particular Account\",\n",
        "    \"Mas particular Account\", \"Junior Account\", \"Payroll Account\", \"Derivada Account\",\n",
        "    \"Current Accounts\"\n",
        "]\n",
        "\n",
        "#Crear numero_productos\n",
        "df_santander['numero_productos'] = df_santander[cols].sum(axis=1)\n",
        "print(df_santander[['numero_productos']])"
      ],
      "metadata": {
        "id": "sbPyYBDE89KW"
      },
      "execution_count": null,
      "outputs": []
    },
    {
      "cell_type": "code",
      "source": [
        "#Regresion lineal\n",
        "plt.figure(figsize=(8, 6))\n",
        "sns.regplot(x='renta', y='numero_productos', data=df_santander, scatter_kws={'alpha':0.5}, line_kws={'color':'red'})\n",
        "plt.title('Relacion entre Renta y Cantidad de Productos')\n",
        "plt.xlabel('Renta')\n",
        "plt.ylabel('Cantidad Productos')\n",
        "plt.gca().xaxis.set_major_formatter(ticker.FuncFormatter(lambda x, _: f'€{x:,.0f}'))\n",
        "plt.show()"
      ],
      "metadata": {
        "id": "tX_aQbsl9cZd"
      },
      "execution_count": null,
      "outputs": []
    },
    {
      "cell_type": "markdown",
      "source": [
        "Analisis de resultados: La pediente positiva nos indica que a mayor renta es tambien aumenta la cantidad de productos que adquiere el cliente. Aun asi, la gran mayoria de los clientes tienen entre 1 a dos productos bancarios."
      ],
      "metadata": {
        "id": "oEmMClav9QgL"
      }
    },
    {
      "cell_type": "markdown",
      "source": [
        "##16. Grafico de dispersion"
      ],
      "metadata": {
        "id": "kov1UHixAdzE"
      }
    },
    {
      "cell_type": "code",
      "source": [
        "#Grafico de dispersion sin transformacion logaritmica\n",
        "plt.figure(figsize=(10, 14))\n",
        "ax = sns.scatterplot(x='renta', y='antiguedad', data=df_santander, hue='nomprov', palette='tab20', alpha=0.6)\n",
        "plt.title('Dispersion entre Renta y Antigüedad por provincia')\n",
        "plt.xlabel('Renta')\n",
        "plt.ylabel('Antigüedad')\n",
        "plt.gca().xaxis.set_major_formatter(ticker.FuncFormatter(lambda x, _: f'€{x:,.0f}'))\n",
        "plt.legend(title='Provincia', bbox_to_anchor=(1.05, 1), loc='upper left')\n",
        "plt.show()"
      ],
      "metadata": {
        "id": "jO3ozqc-BHrt"
      },
      "execution_count": null,
      "outputs": []
    },
    {
      "cell_type": "code",
      "source": [
        "#Aplicar logaritmo a renta\n",
        "df_santander['log_renta'] = np.log(df_santander['renta'].replace(0, np.nan))\n",
        "\n",
        "#Graficar la dispersion entre el logaritmo de renta y antiguedad\n",
        "plt.figure(figsize=(10, 14))\n",
        "sns.scatterplot(x='log_renta', y='antiguedad', data=df_santander, hue='nomprov', palette='tab20', alpha=0.6)\n",
        "plt.title('Dispersion entre Log(Renta) y Antiguedad por Provincia')\n",
        "plt.xlabel('Log(Renta)')\n",
        "plt.ylabel('Antigüedad')\n",
        "plt.legend(title='Provincia', bbox_to_anchor=(1.05, 1), loc='upper left')\n",
        "plt.show()"
      ],
      "metadata": {
        "id": "2ZZn88HNBx5i"
      },
      "execution_count": null,
      "outputs": []
    },
    {
      "cell_type": "markdown",
      "source": [
        "##17. Intervalo de Confianza"
      ],
      "metadata": {
        "id": "6E6QU8ewoccG"
      }
    },
    {
      "cell_type": "code",
      "source": [
        "import numpy as np\n",
        "import scipy.stats as stats\n",
        "\n",
        "#Filtrar valores nulos en renta\n",
        "renta = df_santander['renta'].dropna()\n",
        "\n",
        "#Tamaño de la muestra\n",
        "n = len(renta)\n",
        "\n",
        "#Media y desviacion estándar de la renta\n",
        "media_renta = renta.mean()\n",
        "desviacion_renta = renta.std()\n",
        "\n",
        "#Al ser mayor n>30 usaremos la normal\n",
        "Z = stats.norm.ppf(0.975)\n",
        "margen_error = Z * (desviacion_renta / np.sqrt(n))\n",
        "metodo = \"Normal\"\n",
        "\n",
        "#Calcular intervalo de confianza\n",
        "ic_inferior = media_renta - margen_error\n",
        "ic_superior = media_renta + margen_error\n",
        "\n",
        "print(f\"Intervalo de confianza al 95% para el promedio de renta usando el metodo {metodo}:\")\n",
        "print(f\"Valor inferior: €{ic_inferior:.2f}\")\n",
        "print(f\"Valor superior: €{ic_superior:.2f}\")"
      ],
      "metadata": {
        "id": "PI_fyWyRofuT"
      },
      "execution_count": null,
      "outputs": []
    },
    {
      "cell_type": "markdown",
      "source": [
        "##18. Usando gráficas, ¿qué tipo de distribución siguen las dos variables “renta” y “numero_productos”? ¿Considera que es necesario una transformación de las variables?"
      ],
      "metadata": {
        "id": "MC1DdLSiqjOv"
      }
    },
    {
      "cell_type": "code",
      "source": [
        "#Histograma para renta y numero productos\n",
        "plt.figure(figsize=(14, 6))\n",
        "\n",
        "#Grafico renta\n",
        "plt.subplot(1, 2, 1)\n",
        "sns.histplot(df_santander['renta'].dropna(), kde=True, color='blue', bins=30)\n",
        "plt.title('Distribucion de la Renta')\n",
        "plt.xlabel('Renta')\n",
        "plt.ylabel('Frecuencia')\n",
        "\n",
        "#Grafico para numero productos\n",
        "plt.subplot(1, 2, 2)\n",
        "sns.histplot(df_santander['numero_productos'].dropna(), kde=True, color='green', bins=30)\n",
        "plt.title('Distribucion de Numero de Productos')\n",
        "plt.xlabel('Numero de Productos')\n",
        "plt.ylabel('Frecuencia')\n",
        "\n",
        "plt.tight_layout()\n",
        "plt.show()"
      ],
      "metadata": {
        "id": "qsiq2JKdqt5X"
      },
      "execution_count": null,
      "outputs": []
    },
    {
      "cell_type": "code",
      "source": [
        "from scipy import stats\n",
        "\n",
        "#Realizar prueba de normalidad para renta\n",
        "print(\"\\nPrueba de normalidad para renta:\")\n",
        "stat_renta, p_value_renta = stats.shapiro(df_santander['renta'].dropna())\n",
        "print(f\"Estadistico de prueba: {stat_renta:.4f}, p-valor: {p_value_renta:.4f}\")\n",
        "\n",
        "if p_value_renta > 0.05:\n",
        "    print(\"\\nLa variable renta sigue una distribucion normal\")\n",
        "else:\n",
        "    print(\"\\nLa variable renta no sigue una distribucion normal\")\n",
        "\n",
        "#Realizar prueba de normalidad para numero productos\n",
        "print(\"\\nPrueba de normalidad para numero_productos:\")\n",
        "stat_numero_productos, p_value_numero_productos = stats.shapiro(df_santander['numero_productos'].dropna())\n",
        "print(f\"Estadistico de prueba: {stat_numero_productos:.4f}, p-valor: {p_value_numero_productos:.4f}\")\n",
        "\n",
        "#Interpretacion de resultados\n",
        "if p_value_numero_productos > 0.05:\n",
        "    print(\"\\nLa variable numero productos sigue una distribucion normal\")\n",
        "else:\n",
        "    print(\"\\nLa variable numero productos no sigue una distribucion normal\")"
      ],
      "metadata": {
        "id": "0S56o4pbsXZm"
      },
      "execution_count": null,
      "outputs": []
    },
    {
      "cell_type": "markdown",
      "source": [
        "Considero que la transformacion de variables depende del objetivo del estudio. Pues, si la finalidad es utilizar modelos de machine learning o tencicas estadisca que asumen la normalidad como regrension, lo recomendable seria transforma las variables. Sin embargo para modelos que no requieren esta suposicion como arboles de desicion, se podria presindir de la transformacion."
      ],
      "metadata": {
        "id": "zmtZ3tNa3CYE"
      }
    },
    {
      "cell_type": "markdown",
      "source": [
        "##19. ¿Qué variables piensas que serán más relevantes para los análisis predictivos posteriores?"
      ],
      "metadata": {
        "id": "hG4aSaIP5NXH"
      }
    },
    {
      "cell_type": "markdown",
      "source": [
        "Las variables mas importante para proximos analisis serian:\n",
        "-Edad: al permitir predicir ciertos comportamientos bancarios como la preferiencia de producto acuerdo a la edad.\n",
        "-Renta: Un indicador esencial para reconocer el poder adquisitivo de cliente, lo cual puede influir en la probabilidad de contratar productos bancarios.\n",
        "-Numero de producto bancarios: tanto esta variable como el resto de producto bancarios son claves para predecir si un cliente es mas susceptible a adquierir mas productos o si hay riesgo a que resinda de uno.\n",
        "-Provincia: La ubicacion geografia puede influir en las preferencias de productos bancarios, ya que ciertas provincias pueden ser mas susceptible a ciertos productos."
      ],
      "metadata": {
        "id": "Hu1u3cwR9a8-"
      }
    },
    {
      "cell_type": "markdown",
      "source": [
        "##20. Analisis De Resultados"
      ],
      "metadata": {
        "id": "QLHgO3fIAY_T"
      }
    },
    {
      "cell_type": "markdown",
      "source": [
        "Primeramente, se pudo reconocer que hay bastantes outliers dentro de los datos, sobretodo en la categoria de renta donde se puede comprobar que hay extremos altos y bajos los cuales pueden ahcer bastante ruido en el analisis. Seguidamente, el analisis de correlaciones entre la edad y los productos bancario demostro correlaciones débiles con la mayoría de los productos bancarios, lo que sugiere que el consumo de productos no está estrictamente relacionado con la edad.\n",
        "\n",
        "\n",
        "\n",
        "Del mismo modo se identificaron 2 grupos principales mediante K-means, lo que representa segmentos diferenciados de clientes, como jovenes con ingresos bajos y adultos con ingresos altos. El clustering muestra una clara segmentación basada en edad y renta, que puede ser usada para diseñar estrategias de marketing personalizadas.\n",
        "\n",
        "A su vez, existe una relacion positiva entre renta y numero de productos adquiridos, es decir, los clientes con mayores ingresos tienden a consumir más productos. Sin embargo, la dispersion sugiere que hay otros factores importantes como la antigüedad o provincia que pueden influir en esta relacion.\n",
        "\n",
        "\n",
        "\n",
        "Por ultimo, la mayoría de los clientes tienen pocos productos, lo que indica una gran oportunidad para ventas cruzadas. No obstante, para el lograr ejecutar un analisis preditivo que sea acertado para la prediccion de adquision de productos bancarios, es necesario solucionar varios problemas del dataset, como datos faltantes en variables clave o valores invalidos y la falta de feature engineering para generar nuevas categorias para los modelos.  "
      ],
      "metadata": {
        "id": "fl9BxM6pGYZW"
      }
    }
  ]
}