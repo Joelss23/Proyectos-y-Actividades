{
  "nbformat": 4,
  "nbformat_minor": 0,
  "metadata": {
    "colab": {
      "provenance": [],
      "toc_visible": true,
      "include_colab_link": true
    },
    "kernelspec": {
      "name": "python3",
      "display_name": "Python 3"
    },
    "language_info": {
      "name": "python"
    }
  },
  "cells": [
    {
      "cell_type": "markdown",
      "metadata": {
        "id": "view-in-github",
        "colab_type": "text"
      },
      "source": [
        "<a href=\"https://colab.research.google.com/github/Joelss23/Proyectos-y-Actividades/blob/Proyectos/Proyecto_Apliaciones.ipynb\" target=\"_parent\"><img src=\"https://colab.research.google.com/assets/colab-badge.svg\" alt=\"Open In Colab\"/></a>"
      ]
    },
    {
      "cell_type": "markdown",
      "source": [
        "# **Impacto del consumo de energía en Costa Rica**\n"
      ],
      "metadata": {
        "id": "oa7Y2P0StkK5"
      }
    },
    {
      "cell_type": "markdown",
      "source": [
        "## **Justification**\n",
        "\n",
        "The available evidence shows that climate change is a phenomenon of global incidence. The analysis of data regarding the National Energy Balance in Costa Rica (SEPSE) is a fundamental resource for the design of efficient strategies that allow the introduction of sustainable development. This entity is responsible for collecting data regarding the management, production and uses of the energy generated in Costa Rica.\n",
        "\n",
        "This database, although it is true that it is controlled and published annually, there are very few analysis carried out based on this data. It is for this reason that throughout this document an exploratory analysis of the Hakkathon and climate datasets data repository is presented in order to explain the behavior of energy consumption in the country, as well as identifying the peaks of energy generation throughout the years of 2012-2018.\n",
        "\n",
        " In essence, by performing an EDA analyis on the following data, we will identify possible advantages regarding the energy industry in Costa Rica, as well as the challenges and opportunities for improvement the industry has in an era where renawable and sustainable energy is key for enviromental protection, health and economic prosperity."
      ],
      "metadata": {
        "id": "3o6P62c_ufVG"
      }
    },
    {
      "cell_type": "markdown",
      "source": [
        "## **Goal**\n",
        "\n",
        "The objective of this study is to present some reflections on the analysis of the impact of energy consumption, transformation and generation in Costa Rica; in order to compare and contrast the national scenario both globally and Latin Americanly to demonstrate the development of Costa Rica over time with over the procedures and management of energy sources."
      ],
      "metadata": {
        "id": "Mo0edjcG4lHI"
      }
    },
    {
      "cell_type": "markdown",
      "source": [
        "## **Source**\n",
        "\n",
        "Hakkoda Energy Data (2022). Hakkathon energy and climate datasets. Retrived from: https://github.com/Hakkoda1/hakkathon-energy-data"
      ],
      "metadata": {
        "id": "JuZ3Z3JX4zGT"
      }
    },
    {
      "cell_type": "markdown",
      "source": [
        "## **Description**\n",
        "Industry: Refers to the activity whose purpose is to transform raw materials into processed, semi-finished or super-processed products, using an energy source. In this case, it is divided into 6 main categories: Food and tobacco production, Textile and leather production, Wood production, Paper production, Chemical production, and other industries.\n",
        "\n",
        "Energy consumtion by trasnportation type: It is the amount of energy or power used for the transport of the population, it is divided into 3 classes: land, sea and air."
      ],
      "metadata": {
        "id": "Nt-gnbzfB-Vj"
      }
    },
    {
      "cell_type": "markdown",
      "source": [
        "## Installing Libraries"
      ],
      "metadata": {
        "id": "_naPKvGJCTUg"
      }
    },
    {
      "cell_type": "code",
      "source": [
        "#!pip install matplotlib-venn\n",
        "#!pip install xlrd\n",
        "#!pip install pandas\n",
        "#!pip install matplotlib\n",
        "#!pip install seaborn"
      ],
      "metadata": {
        "colab": {
          "base_uri": "https://localhost:8080/"
        },
        "id": "THKRH5cGANWJ",
        "outputId": "8ab83b2f-6543-44d8-d7d8-957c793c6d61"
      },
      "execution_count": null,
      "outputs": [
        {
          "output_type": "stream",
          "name": "stdout",
          "text": [
            "Requirement already satisfied: matplotlib-venn in /usr/local/lib/python3.7/dist-packages (0.11.7)\n",
            "Requirement already satisfied: numpy in /usr/local/lib/python3.7/dist-packages (from matplotlib-venn) (1.21.6)\n",
            "Requirement already satisfied: scipy in /usr/local/lib/python3.7/dist-packages (from matplotlib-venn) (1.4.1)\n",
            "Requirement already satisfied: matplotlib in /usr/local/lib/python3.7/dist-packages (from matplotlib-venn) (3.2.2)\n",
            "Requirement already satisfied: pyparsing!=2.0.4,!=2.1.2,!=2.1.6,>=2.0.1 in /usr/local/lib/python3.7/dist-packages (from matplotlib->matplotlib-venn) (3.0.8)\n",
            "Requirement already satisfied: python-dateutil>=2.1 in /usr/local/lib/python3.7/dist-packages (from matplotlib->matplotlib-venn) (2.8.2)\n",
            "Requirement already satisfied: cycler>=0.10 in /usr/local/lib/python3.7/dist-packages (from matplotlib->matplotlib-venn) (0.11.0)\n",
            "Requirement already satisfied: kiwisolver>=1.0.1 in /usr/local/lib/python3.7/dist-packages (from matplotlib->matplotlib-venn) (1.4.2)\n",
            "Requirement already satisfied: typing-extensions in /usr/local/lib/python3.7/dist-packages (from kiwisolver>=1.0.1->matplotlib->matplotlib-venn) (4.2.0)\n",
            "Requirement already satisfied: six>=1.5 in /usr/local/lib/python3.7/dist-packages (from python-dateutil>=2.1->matplotlib->matplotlib-venn) (1.15.0)\n",
            "Requirement already satisfied: xlrd in /usr/local/lib/python3.7/dist-packages (1.1.0)\n",
            "Requirement already satisfied: pandas in /usr/local/lib/python3.7/dist-packages (1.3.5)\n",
            "Requirement already satisfied: python-dateutil>=2.7.3 in /usr/local/lib/python3.7/dist-packages (from pandas) (2.8.2)\n",
            "Requirement already satisfied: pytz>=2017.3 in /usr/local/lib/python3.7/dist-packages (from pandas) (2022.1)\n",
            "Requirement already satisfied: numpy>=1.17.3 in /usr/local/lib/python3.7/dist-packages (from pandas) (1.21.6)\n",
            "Requirement already satisfied: six>=1.5 in /usr/local/lib/python3.7/dist-packages (from python-dateutil>=2.7.3->pandas) (1.15.0)\n",
            "Requirement already satisfied: matplotlib in /usr/local/lib/python3.7/dist-packages (3.2.2)\n",
            "Requirement already satisfied: pyparsing!=2.0.4,!=2.1.2,!=2.1.6,>=2.0.1 in /usr/local/lib/python3.7/dist-packages (from matplotlib) (3.0.8)\n",
            "Requirement already satisfied: python-dateutil>=2.1 in /usr/local/lib/python3.7/dist-packages (from matplotlib) (2.8.2)\n",
            "Requirement already satisfied: kiwisolver>=1.0.1 in /usr/local/lib/python3.7/dist-packages (from matplotlib) (1.4.2)\n",
            "Requirement already satisfied: cycler>=0.10 in /usr/local/lib/python3.7/dist-packages (from matplotlib) (0.11.0)\n",
            "Requirement already satisfied: numpy>=1.11 in /usr/local/lib/python3.7/dist-packages (from matplotlib) (1.21.6)\n",
            "Requirement already satisfied: typing-extensions in /usr/local/lib/python3.7/dist-packages (from kiwisolver>=1.0.1->matplotlib) (4.2.0)\n",
            "Requirement already satisfied: six>=1.5 in /usr/local/lib/python3.7/dist-packages (from python-dateutil>=2.1->matplotlib) (1.15.0)\n",
            "Requirement already satisfied: seaborn in /usr/local/lib/python3.7/dist-packages (0.11.2)\n",
            "Requirement already satisfied: pandas>=0.23 in /usr/local/lib/python3.7/dist-packages (from seaborn) (1.3.5)\n",
            "Requirement already satisfied: matplotlib>=2.2 in /usr/local/lib/python3.7/dist-packages (from seaborn) (3.2.2)\n",
            "Requirement already satisfied: numpy>=1.15 in /usr/local/lib/python3.7/dist-packages (from seaborn) (1.21.6)\n",
            "Requirement already satisfied: scipy>=1.0 in /usr/local/lib/python3.7/dist-packages (from seaborn) (1.4.1)\n",
            "Requirement already satisfied: python-dateutil>=2.1 in /usr/local/lib/python3.7/dist-packages (from matplotlib>=2.2->seaborn) (2.8.2)\n",
            "Requirement already satisfied: cycler>=0.10 in /usr/local/lib/python3.7/dist-packages (from matplotlib>=2.2->seaborn) (0.11.0)\n",
            "Requirement already satisfied: pyparsing!=2.0.4,!=2.1.2,!=2.1.6,>=2.0.1 in /usr/local/lib/python3.7/dist-packages (from matplotlib>=2.2->seaborn) (3.0.8)\n",
            "Requirement already satisfied: kiwisolver>=1.0.1 in /usr/local/lib/python3.7/dist-packages (from matplotlib>=2.2->seaborn) (1.4.2)\n",
            "Requirement already satisfied: typing-extensions in /usr/local/lib/python3.7/dist-packages (from kiwisolver>=1.0.1->matplotlib>=2.2->seaborn) (4.2.0)\n",
            "Requirement already satisfied: pytz>=2017.3 in /usr/local/lib/python3.7/dist-packages (from pandas>=0.23->seaborn) (2022.1)\n",
            "Requirement already satisfied: six>=1.5 in /usr/local/lib/python3.7/dist-packages (from python-dateutil>=2.1->matplotlib>=2.2->seaborn) (1.15.0)\n"
          ]
        }
      ]
    },
    {
      "cell_type": "markdown",
      "source": [
        "## Importing Libraries"
      ],
      "metadata": {
        "id": "pwn9WEUDCeAg"
      }
    },
    {
      "cell_type": "code",
      "execution_count": null,
      "metadata": {
        "id": "tjHjjO9bm09o"
      },
      "outputs": [],
      "source": [
        "#Import Libraries\n",
        "import xlrd\n",
        "import pandas as pd\n",
        "import matplotlib\n",
        "import matplotlib.pyplot as plt\n",
        "import seaborn as sns"
      ]
    },
    {
      "cell_type": "markdown",
      "source": [
        "#Generation Energy Consuptiom"
      ],
      "metadata": {
        "id": "Qm2d5cwmCicv"
      }
    },
    {
      "cell_type": "code",
      "source": [
        "##1. Generation Energy Consumption"
      ],
      "metadata": {
        "id": "GISJRcXam6kz"
      },
      "execution_count": null,
      "outputs": []
    },
    {
      "cell_type": "code",
      "source": [
        "encoding='latin-1'#A. Importing Data\n",
        "Generation_Consumption = pd.read_csv(\"Generaciónxtipofuente.csv\" , dtype= object)"
      ],
      "metadata": {
        "id": "nSfnz4D5m8UW"
      },
      "execution_count": null,
      "outputs": []
    },
    {
      "cell_type": "code",
      "source": [
        "#B Changing Description\n",
        "Generation_Consumption.columns = ['Año', 'Hidro(Megavatios)', 'Geotérmica(Megavatios)', 'Eólica(Megavatios)',\n",
        "                                  'Biomasa(Megavatios)', 'Solar(Gigavatios*hora/Año)', 'Térmica(Megavatios)','Total']"
      ],
      "metadata": {
        "id": "OD4zuON9m9Qq"
      },
      "execution_count": null,
      "outputs": []
    },
    {
      "cell_type": "code",
      "source": [
        "#C. Table\n",
        "Generation_Consumption"
      ],
      "metadata": {
        "colab": {
          "base_uri": "https://localhost:8080/",
          "height": 458
        },
        "id": "pACg0tZ8m-Oc",
        "outputId": "24bd9bb7-9f24-49cd-b614-3b410471d7de"
      },
      "execution_count": null,
      "outputs": [
        {
          "output_type": "execute_result",
          "data": {
            "text/plain": [
              "      Año Hidro(Megavatios) Geotérmica(Megavatios) Eólica(Megavatios)  \\\n",
              "0    2010         26,144.25               4,233.89           1,291.23   \n",
              "1    2011         25,684.64               4,606.35           1,492.11   \n",
              "2    2012         26,039.52               5,049.18           1,902.18   \n",
              "3    2013         24,663.76               5,460.25           1,744.45   \n",
              "4    2014         24,181.75               5,537.29           2,645.11   \n",
              "5    2015         29,039.71               4,952.26           3,886.23   \n",
              "6    2016         28,893.40               4,822.25           4,130.25   \n",
              "7    2017         31,237.06               4,024.20           4,635.64   \n",
              "8    2018         30,034.43               3,486.85           6,475.95   \n",
              "9    2019         28,175.98               5,445.27           6,466.84   \n",
              "10  Total        274,094.50              47,617.79          34,669.99   \n",
              "\n",
              "   Biomasa(Megavatios) Solar(Gigavatios*hora/Año) Térmica(Megavatios)  \\\n",
              "0               521.41                       0.93            2,308.23   \n",
              "1               500.37                       1.73            3,108.03   \n",
              "2               643.04                       4.67            2,989.02   \n",
              "3               659.94                       8.80            4,305.59   \n",
              "4               650.24                       8.88            3,755.53   \n",
              "5               645.38                       9.12              389.23   \n",
              "6               617.42                       8.69              694.89   \n",
              "7               664.24                      16.03              134.70   \n",
              "8               625.19                     201.76              570.78   \n",
              "9               608.57                     215.35              344.29   \n",
              "10            6,135.80                     475.96           18,600.29   \n",
              "\n",
              "         Total  \n",
              "0    34,499.95  \n",
              "1    35,393.24  \n",
              "2    36,627.60  \n",
              "3    36,842.78  \n",
              "4    36,778.79  \n",
              "5    38,921.94  \n",
              "6    39,166.91  \n",
              "7    40,711.86  \n",
              "8    41,394.96  \n",
              "9    41,256.29  \n",
              "10  381,594.32  "
            ],
            "text/html": [
              "\n",
              "  <div id=\"df-55c8f702-d294-41c7-bbf2-fb963b92a926\">\n",
              "    <div class=\"colab-df-container\">\n",
              "      <div>\n",
              "<style scoped>\n",
              "    .dataframe tbody tr th:only-of-type {\n",
              "        vertical-align: middle;\n",
              "    }\n",
              "\n",
              "    .dataframe tbody tr th {\n",
              "        vertical-align: top;\n",
              "    }\n",
              "\n",
              "    .dataframe thead th {\n",
              "        text-align: right;\n",
              "    }\n",
              "</style>\n",
              "<table border=\"1\" class=\"dataframe\">\n",
              "  <thead>\n",
              "    <tr style=\"text-align: right;\">\n",
              "      <th></th>\n",
              "      <th>Año</th>\n",
              "      <th>Hidro(Megavatios)</th>\n",
              "      <th>Geotérmica(Megavatios)</th>\n",
              "      <th>Eólica(Megavatios)</th>\n",
              "      <th>Biomasa(Megavatios)</th>\n",
              "      <th>Solar(Gigavatios*hora/Año)</th>\n",
              "      <th>Térmica(Megavatios)</th>\n",
              "      <th>Total</th>\n",
              "    </tr>\n",
              "  </thead>\n",
              "  <tbody>\n",
              "    <tr>\n",
              "      <th>0</th>\n",
              "      <td>2010</td>\n",
              "      <td>26,144.25</td>\n",
              "      <td>4,233.89</td>\n",
              "      <td>1,291.23</td>\n",
              "      <td>521.41</td>\n",
              "      <td>0.93</td>\n",
              "      <td>2,308.23</td>\n",
              "      <td>34,499.95</td>\n",
              "    </tr>\n",
              "    <tr>\n",
              "      <th>1</th>\n",
              "      <td>2011</td>\n",
              "      <td>25,684.64</td>\n",
              "      <td>4,606.35</td>\n",
              "      <td>1,492.11</td>\n",
              "      <td>500.37</td>\n",
              "      <td>1.73</td>\n",
              "      <td>3,108.03</td>\n",
              "      <td>35,393.24</td>\n",
              "    </tr>\n",
              "    <tr>\n",
              "      <th>2</th>\n",
              "      <td>2012</td>\n",
              "      <td>26,039.52</td>\n",
              "      <td>5,049.18</td>\n",
              "      <td>1,902.18</td>\n",
              "      <td>643.04</td>\n",
              "      <td>4.67</td>\n",
              "      <td>2,989.02</td>\n",
              "      <td>36,627.60</td>\n",
              "    </tr>\n",
              "    <tr>\n",
              "      <th>3</th>\n",
              "      <td>2013</td>\n",
              "      <td>24,663.76</td>\n",
              "      <td>5,460.25</td>\n",
              "      <td>1,744.45</td>\n",
              "      <td>659.94</td>\n",
              "      <td>8.80</td>\n",
              "      <td>4,305.59</td>\n",
              "      <td>36,842.78</td>\n",
              "    </tr>\n",
              "    <tr>\n",
              "      <th>4</th>\n",
              "      <td>2014</td>\n",
              "      <td>24,181.75</td>\n",
              "      <td>5,537.29</td>\n",
              "      <td>2,645.11</td>\n",
              "      <td>650.24</td>\n",
              "      <td>8.88</td>\n",
              "      <td>3,755.53</td>\n",
              "      <td>36,778.79</td>\n",
              "    </tr>\n",
              "    <tr>\n",
              "      <th>5</th>\n",
              "      <td>2015</td>\n",
              "      <td>29,039.71</td>\n",
              "      <td>4,952.26</td>\n",
              "      <td>3,886.23</td>\n",
              "      <td>645.38</td>\n",
              "      <td>9.12</td>\n",
              "      <td>389.23</td>\n",
              "      <td>38,921.94</td>\n",
              "    </tr>\n",
              "    <tr>\n",
              "      <th>6</th>\n",
              "      <td>2016</td>\n",
              "      <td>28,893.40</td>\n",
              "      <td>4,822.25</td>\n",
              "      <td>4,130.25</td>\n",
              "      <td>617.42</td>\n",
              "      <td>8.69</td>\n",
              "      <td>694.89</td>\n",
              "      <td>39,166.91</td>\n",
              "    </tr>\n",
              "    <tr>\n",
              "      <th>7</th>\n",
              "      <td>2017</td>\n",
              "      <td>31,237.06</td>\n",
              "      <td>4,024.20</td>\n",
              "      <td>4,635.64</td>\n",
              "      <td>664.24</td>\n",
              "      <td>16.03</td>\n",
              "      <td>134.70</td>\n",
              "      <td>40,711.86</td>\n",
              "    </tr>\n",
              "    <tr>\n",
              "      <th>8</th>\n",
              "      <td>2018</td>\n",
              "      <td>30,034.43</td>\n",
              "      <td>3,486.85</td>\n",
              "      <td>6,475.95</td>\n",
              "      <td>625.19</td>\n",
              "      <td>201.76</td>\n",
              "      <td>570.78</td>\n",
              "      <td>41,394.96</td>\n",
              "    </tr>\n",
              "    <tr>\n",
              "      <th>9</th>\n",
              "      <td>2019</td>\n",
              "      <td>28,175.98</td>\n",
              "      <td>5,445.27</td>\n",
              "      <td>6,466.84</td>\n",
              "      <td>608.57</td>\n",
              "      <td>215.35</td>\n",
              "      <td>344.29</td>\n",
              "      <td>41,256.29</td>\n",
              "    </tr>\n",
              "    <tr>\n",
              "      <th>10</th>\n",
              "      <td>Total</td>\n",
              "      <td>274,094.50</td>\n",
              "      <td>47,617.79</td>\n",
              "      <td>34,669.99</td>\n",
              "      <td>6,135.80</td>\n",
              "      <td>475.96</td>\n",
              "      <td>18,600.29</td>\n",
              "      <td>381,594.32</td>\n",
              "    </tr>\n",
              "  </tbody>\n",
              "</table>\n",
              "</div>\n",
              "      <button class=\"colab-df-convert\" onclick=\"convertToInteractive('df-55c8f702-d294-41c7-bbf2-fb963b92a926')\"\n",
              "              title=\"Convert this dataframe to an interactive table.\"\n",
              "              style=\"display:none;\">\n",
              "        \n",
              "  <svg xmlns=\"http://www.w3.org/2000/svg\" height=\"24px\"viewBox=\"0 0 24 24\"\n",
              "       width=\"24px\">\n",
              "    <path d=\"M0 0h24v24H0V0z\" fill=\"none\"/>\n",
              "    <path d=\"M18.56 5.44l.94 2.06.94-2.06 2.06-.94-2.06-.94-.94-2.06-.94 2.06-2.06.94zm-11 1L8.5 8.5l.94-2.06 2.06-.94-2.06-.94L8.5 2.5l-.94 2.06-2.06.94zm10 10l.94 2.06.94-2.06 2.06-.94-2.06-.94-.94-2.06-.94 2.06-2.06.94z\"/><path d=\"M17.41 7.96l-1.37-1.37c-.4-.4-.92-.59-1.43-.59-.52 0-1.04.2-1.43.59L10.3 9.45l-7.72 7.72c-.78.78-.78 2.05 0 2.83L4 21.41c.39.39.9.59 1.41.59.51 0 1.02-.2 1.41-.59l7.78-7.78 2.81-2.81c.8-.78.8-2.07 0-2.86zM5.41 20L4 18.59l7.72-7.72 1.47 1.35L5.41 20z\"/>\n",
              "  </svg>\n",
              "      </button>\n",
              "      \n",
              "  <style>\n",
              "    .colab-df-container {\n",
              "      display:flex;\n",
              "      flex-wrap:wrap;\n",
              "      gap: 12px;\n",
              "    }\n",
              "\n",
              "    .colab-df-convert {\n",
              "      background-color: #E8F0FE;\n",
              "      border: none;\n",
              "      border-radius: 50%;\n",
              "      cursor: pointer;\n",
              "      display: none;\n",
              "      fill: #1967D2;\n",
              "      height: 32px;\n",
              "      padding: 0 0 0 0;\n",
              "      width: 32px;\n",
              "    }\n",
              "\n",
              "    .colab-df-convert:hover {\n",
              "      background-color: #E2EBFA;\n",
              "      box-shadow: 0px 1px 2px rgba(60, 64, 67, 0.3), 0px 1px 3px 1px rgba(60, 64, 67, 0.15);\n",
              "      fill: #174EA6;\n",
              "    }\n",
              "\n",
              "    [theme=dark] .colab-df-convert {\n",
              "      background-color: #3B4455;\n",
              "      fill: #D2E3FC;\n",
              "    }\n",
              "\n",
              "    [theme=dark] .colab-df-convert:hover {\n",
              "      background-color: #434B5C;\n",
              "      box-shadow: 0px 1px 3px 1px rgba(0, 0, 0, 0.15);\n",
              "      filter: drop-shadow(0px 1px 2px rgba(0, 0, 0, 0.3));\n",
              "      fill: #FFFFFF;\n",
              "    }\n",
              "  </style>\n",
              "\n",
              "      <script>\n",
              "        const buttonEl =\n",
              "          document.querySelector('#df-55c8f702-d294-41c7-bbf2-fb963b92a926 button.colab-df-convert');\n",
              "        buttonEl.style.display =\n",
              "          google.colab.kernel.accessAllowed ? 'block' : 'none';\n",
              "\n",
              "        async function convertToInteractive(key) {\n",
              "          const element = document.querySelector('#df-55c8f702-d294-41c7-bbf2-fb963b92a926');\n",
              "          const dataTable =\n",
              "            await google.colab.kernel.invokeFunction('convertToInteractive',\n",
              "                                                     [key], {});\n",
              "          if (!dataTable) return;\n",
              "\n",
              "          const docLinkHtml = 'Like what you see? Visit the ' +\n",
              "            '<a target=\"_blank\" href=https://colab.research.google.com/notebooks/data_table.ipynb>data table notebook</a>'\n",
              "            + ' to learn more about interactive tables.';\n",
              "          element.innerHTML = '';\n",
              "          dataTable['output_type'] = 'display_data';\n",
              "          await google.colab.output.renderOutput(dataTable, element);\n",
              "          const docLink = document.createElement('div');\n",
              "          docLink.innerHTML = docLinkHtml;\n",
              "          element.appendChild(docLink);\n",
              "        }\n",
              "      </script>\n",
              "    </div>\n",
              "  </div>\n",
              "  "
            ]
          },
          "metadata": {},
          "execution_count": 91
        }
      ]
    },
    {
      "cell_type": "code",
      "source": [
        "#D.Recognizing data values\n",
        "print(Generation_Consumption.dtypes)\n",
        "print('Las secuencias de caracteres pueden contener números y / o caracteres, en este caso los datos son numéricos.')"
      ],
      "metadata": {
        "colab": {
          "base_uri": "https://localhost:8080/"
        },
        "id": "rsAM2Ns8nCUZ",
        "outputId": "bedd067d-cb09-450e-cf26-8f8c3690b86d"
      },
      "execution_count": null,
      "outputs": [
        {
          "output_type": "stream",
          "name": "stdout",
          "text": [
            "Año                           object\n",
            "Hidro(Megavatios)             object\n",
            "Geotérmica(Megavatios)        object\n",
            "Eólica(Megavatios)            object\n",
            "Biomasa(Megavatios)           object\n",
            "Solar(Gigavatios*hora/Año)    object\n",
            "Térmica(Megavatios)           object\n",
            "Total                         object\n",
            "dtype: object\n",
            "Las secuencias de caracteres pueden contener números y / o caracteres, en este caso los datos son numéricos.\n"
          ]
        }
      ]
    },
    {
      "cell_type": "code",
      "source": [
        "#E. Scatter Plot\n",
        "Generation_Consumption.plot.scatter(y=\"Total\", x=\"Año\")"
      ],
      "metadata": {
        "colab": {
          "base_uri": "https://localhost:8080/",
          "height": 296
        },
        "id": "C9M9W8xsnDjl",
        "outputId": "a37bc22f-4d22-4d15-ac6e-4a6c75e0992d"
      },
      "execution_count": null,
      "outputs": [
        {
          "output_type": "execute_result",
          "data": {
            "text/plain": [
              "<matplotlib.axes._subplots.AxesSubplot at 0x7f70e998fe10>"
            ]
          },
          "metadata": {},
          "execution_count": 93
        },
        {
          "output_type": "display_data",
          "data": {
            "text/plain": [
              "<Figure size 432x288 with 1 Axes>"
            ],
            "image/png": "[encoded data removed]"
          },
          "metadata": {
            "needs_background": "light"
          }
        }
      ]
    },
    {
      "cell_type": "code",
      "source": [
        "##2. Importation Energy Consumption"
      ],
      "metadata": {
        "id": "sJMGXlqmnHgf"
      },
      "execution_count": null,
      "outputs": []
    },
    {
      "cell_type": "code",
      "source": [
        "#A. Importing Data\n",
        "Importation_Consumption = pd.read_csv(\"Importaciones.csv\" , dtype = \"object\")"
      ],
      "metadata": {
        "id": "OL8owUzonKVF"
      },
      "execution_count": null,
      "outputs": []
    },
    {
      "cell_type": "code",
      "source": [
        "#B. Changing Description\n",
        "Importation_Consumption.columns = ['Año', 'Importaciones(TeraJulios)']"
      ],
      "metadata": {
        "id": "AH_mL_VdnNaN"
      },
      "execution_count": null,
      "outputs": []
    },
    {
      "cell_type": "code",
      "source": [
        "#C. Table\n",
        "Importation_Consumption"
      ],
      "metadata": {
        "colab": {
          "base_uri": "https://localhost:8080/",
          "height": 394
        },
        "id": "2z7EqCQTnOZt",
        "outputId": "09acfd70-29c2-4f00-b267-9c4ab5b1df27"
      },
      "execution_count": null,
      "outputs": [
        {
          "output_type": "execute_result",
          "data": {
            "text/plain": [
              "      Año Importaciones(TeraJulios)\n",
              "0    2010                104,818.94\n",
              "1    2011                105,991.40\n",
              "2    2012                105,521.89\n",
              "3    2013                108,967.28\n",
              "4    2014                112,928.31\n",
              "5    2015                107,389.30\n",
              "6    2016                115,170.04\n",
              "7    2017                122,745.30\n",
              "8    2018                117,521.10\n",
              "9    2019                123,790.75\n",
              "10  Total              1,124,844.31"
            ],
            "text/html": [
              "\n",
              "  <div id=\"df-8fae7b7a-8863-4234-9514-e1e7cbbd39c5\">\n",
              "    <div class=\"colab-df-container\">\n",
              "      <div>\n",
              "<style scoped>\n",
              "    .dataframe tbody tr th:only-of-type {\n",
              "        vertical-align: middle;\n",
              "    }\n",
              "\n",
              "    .dataframe tbody tr th {\n",
              "        vertical-align: top;\n",
              "    }\n",
              "\n",
              "    .dataframe thead th {\n",
              "        text-align: right;\n",
              "    }\n",
              "</style>\n",
              "<table border=\"1\" class=\"dataframe\">\n",
              "  <thead>\n",
              "    <tr style=\"text-align: right;\">\n",
              "      <th></th>\n",
              "      <th>Año</th>\n",
              "      <th>Importaciones(TeraJulios)</th>\n",
              "    </tr>\n",
              "  </thead>\n",
              "  <tbody>\n",
              "    <tr>\n",
              "      <th>0</th>\n",
              "      <td>2010</td>\n",
              "      <td>104,818.94</td>\n",
              "    </tr>\n",
              "    <tr>\n",
              "      <th>1</th>\n",
              "      <td>2011</td>\n",
              "      <td>105,991.40</td>\n",
              "    </tr>\n",
              "    <tr>\n",
              "      <th>2</th>\n",
              "      <td>2012</td>\n",
              "      <td>105,521.89</td>\n",
              "    </tr>\n",
              "    <tr>\n",
              "      <th>3</th>\n",
              "      <td>2013</td>\n",
              "      <td>108,967.28</td>\n",
              "    </tr>\n",
              "    <tr>\n",
              "      <th>4</th>\n",
              "      <td>2014</td>\n",
              "      <td>112,928.31</td>\n",
              "    </tr>\n",
              "    <tr>\n",
              "      <th>5</th>\n",
              "      <td>2015</td>\n",
              "      <td>107,389.30</td>\n",
              "    </tr>\n",
              "    <tr>\n",
              "      <th>6</th>\n",
              "      <td>2016</td>\n",
              "      <td>115,170.04</td>\n",
              "    </tr>\n",
              "    <tr>\n",
              "      <th>7</th>\n",
              "      <td>2017</td>\n",
              "      <td>122,745.30</td>\n",
              "    </tr>\n",
              "    <tr>\n",
              "      <th>8</th>\n",
              "      <td>2018</td>\n",
              "      <td>117,521.10</td>\n",
              "    </tr>\n",
              "    <tr>\n",
              "      <th>9</th>\n",
              "      <td>2019</td>\n",
              "      <td>123,790.75</td>\n",
              "    </tr>\n",
              "    <tr>\n",
              "      <th>10</th>\n",
              "      <td>Total</td>\n",
              "      <td>1,124,844.31</td>\n",
              "    </tr>\n",
              "  </tbody>\n",
              "</table>\n",
              "</div>\n",
              "      <button class=\"colab-df-convert\" onclick=\"convertToInteractive('df-8fae7b7a-8863-4234-9514-e1e7cbbd39c5')\"\n",
              "              title=\"Convert this dataframe to an interactive table.\"\n",
              "              style=\"display:none;\">\n",
              "        \n",
              "  <svg xmlns=\"http://www.w3.org/2000/svg\" height=\"24px\"viewBox=\"0 0 24 24\"\n",
              "       width=\"24px\">\n",
              "    <path d=\"M0 0h24v24H0V0z\" fill=\"none\"/>\n",
              "    <path d=\"M18.56 5.44l.94 2.06.94-2.06 2.06-.94-2.06-.94-.94-2.06-.94 2.06-2.06.94zm-11 1L8.5 8.5l.94-2.06 2.06-.94-2.06-.94L8.5 2.5l-.94 2.06-2.06.94zm10 10l.94 2.06.94-2.06 2.06-.94-2.06-.94-.94-2.06-.94 2.06-2.06.94z\"/><path d=\"M17.41 7.96l-1.37-1.37c-.4-.4-.92-.59-1.43-.59-.52 0-1.04.2-1.43.59L10.3 9.45l-7.72 7.72c-.78.78-.78 2.05 0 2.83L4 21.41c.39.39.9.59 1.41.59.51 0 1.02-.2 1.41-.59l7.78-7.78 2.81-2.81c.8-.78.8-2.07 0-2.86zM5.41 20L4 18.59l7.72-7.72 1.47 1.35L5.41 20z\"/>\n",
              "  </svg>\n",
              "      </button>\n",
              "      \n",
              "  <style>\n",
              "    .colab-df-container {\n",
              "      display:flex;\n",
              "      flex-wrap:wrap;\n",
              "      gap: 12px;\n",
              "    }\n",
              "\n",
              "    .colab-df-convert {\n",
              "      background-color: #E8F0FE;\n",
              "      border: none;\n",
              "      border-radius: 50%;\n",
              "      cursor: pointer;\n",
              "      display: none;\n",
              "      fill: #1967D2;\n",
              "      height: 32px;\n",
              "      padding: 0 0 0 0;\n",
              "      width: 32px;\n",
              "    }\n",
              "\n",
              "    .colab-df-convert:hover {\n",
              "      background-color: #E2EBFA;\n",
              "      box-shadow: 0px 1px 2px rgba(60, 64, 67, 0.3), 0px 1px 3px 1px rgba(60, 64, 67, 0.15);\n",
              "      fill: #174EA6;\n",
              "    }\n",
              "\n",
              "    [theme=dark] .colab-df-convert {\n",
              "      background-color: #3B4455;\n",
              "      fill: #D2E3FC;\n",
              "    }\n",
              "\n",
              "    [theme=dark] .colab-df-convert:hover {\n",
              "      background-color: #434B5C;\n",
              "      box-shadow: 0px 1px 3px 1px rgba(0, 0, 0, 0.15);\n",
              "      filter: drop-shadow(0px 1px 2px rgba(0, 0, 0, 0.3));\n",
              "      fill: #FFFFFF;\n",
              "    }\n",
              "  </style>\n",
              "\n",
              "      <script>\n",
              "        const buttonEl =\n",
              "          document.querySelector('#df-8fae7b7a-8863-4234-9514-e1e7cbbd39c5 button.colab-df-convert');\n",
              "        buttonEl.style.display =\n",
              "          google.colab.kernel.accessAllowed ? 'block' : 'none';\n",
              "\n",
              "        async function convertToInteractive(key) {\n",
              "          const element = document.querySelector('#df-8fae7b7a-8863-4234-9514-e1e7cbbd39c5');\n",
              "          const dataTable =\n",
              "            await google.colab.kernel.invokeFunction('convertToInteractive',\n",
              "                                                     [key], {});\n",
              "          if (!dataTable) return;\n",
              "\n",
              "          const docLinkHtml = 'Like what you see? Visit the ' +\n",
              "            '<a target=\"_blank\" href=https://colab.research.google.com/notebooks/data_table.ipynb>data table notebook</a>'\n",
              "            + ' to learn more about interactive tables.';\n",
              "          element.innerHTML = '';\n",
              "          dataTable['output_type'] = 'display_data';\n",
              "          await google.colab.output.renderOutput(dataTable, element);\n",
              "          const docLink = document.createElement('div');\n",
              "          docLink.innerHTML = docLinkHtml;\n",
              "          element.appendChild(docLink);\n",
              "        }\n",
              "      </script>\n",
              "    </div>\n",
              "  </div>\n",
              "  "
            ]
          },
          "metadata": {},
          "execution_count": 98
        }
      ]
    },
    {
      "cell_type": "code",
      "source": [
        "#D.Recognizing data values\n",
        "print(Importation_Consumption.dtypes)\n",
        "print('Las secuencias de caracteres pueden contener números y / o caracteres, en este caso los datos son numéricos.')"
      ],
      "metadata": {
        "colab": {
          "base_uri": "https://localhost:8080/"
        },
        "id": "_HvsonTInPdX",
        "outputId": "ca25e9b4-5398-43ed-adc4-0bee9ee9e154"
      },
      "execution_count": null,
      "outputs": [
        {
          "output_type": "stream",
          "name": "stdout",
          "text": [
            "Año                          object\n",
            "Importaciones(TeraJulios)    object\n",
            "dtype: object\n",
            "Las secuencias de caracteres pueden contener números y / o caracteres, en este caso los datos son numéricos.\n"
          ]
        }
      ]
    },
    {
      "cell_type": "code",
      "source": [
        "#E. Scatter Plot\n",
        "Importation_Consumption.plot.scatter(y=\"Importaciones(TeraJulios)\", x=\"Año\")"
      ],
      "metadata": {
        "colab": {
          "base_uri": "https://localhost:8080/",
          "height": 296
        },
        "id": "gMmfwU5LnSAr",
        "outputId": "262a3483-73e0-4a16-f7d2-22a457655bb9"
      },
      "execution_count": null,
      "outputs": [
        {
          "output_type": "execute_result",
          "data": {
            "text/plain": [
              "<matplotlib.axes._subplots.AxesSubplot at 0x7f70e906cc90>"
            ]
          },
          "metadata": {},
          "execution_count": 100
        },
        {
          "output_type": "display_data",
          "data": {
            "text/plain": [
              "<Figure size 432x288 with 1 Axes>"
            ],
            "image/png": "[encoded data removed]"
          },
          "metadata": {
            "needs_background": "light"
          }
        }
      ]
    },
    {
      "cell_type": "code",
      "source": [
        "##3. Industry Energy Consumption"
      ],
      "metadata": {
        "id": "L9II5KudnTB3"
      },
      "execution_count": null,
      "outputs": []
    },
    {
      "cell_type": "code",
      "source": [
        "#A. Importing Data\n",
        "Industry_Consumption = pd.read_csv(\"Industria.csv\" , dtype = \"object\")"
      ],
      "metadata": {
        "id": "hoXBKcpInT1T"
      },
      "execution_count": null,
      "outputs": []
    },
    {
      "cell_type": "code",
      "source": [
        "#B. Table\n",
        "Industry_Consumption"
      ],
      "metadata": {
        "colab": {
          "base_uri": "https://localhost:8080/",
          "height": 459
        },
        "id": "36j_NiWLnUoL",
        "outputId": "b771e381-d049-4cf4-a0a5-b4cfb6b0d56f"
      },
      "execution_count": null,
      "outputs": [
        {
          "output_type": "execute_result",
          "data": {
            "text/plain": [
              "  Unnamed: 0                                 Unnamed: 1  \\\n",
              "0        Año  1. Produc.de alimentos y tabaco (CIIU 31)   \n",
              "1       2010                                  22,612.00   \n",
              "2       2011                                  17,734.00   \n",
              "3       2012                                  18,489.00   \n",
              "4       2013                                  19,839.00   \n",
              "5       2014                                  19,986.00   \n",
              "6       2015                                  19,956.00   \n",
              "7       2016                                  20,435.00   \n",
              "8       2017                                  20,367.00   \n",
              "9       2018                                  20,442.00   \n",
              "\n",
              "                                    Unnamed: 2  \\\n",
              "0  2. Producción de textiles y cuero (CIIU 32)   \n",
              "1                                       918.00   \n",
              "2                                       886.00   \n",
              "3                                       882.00   \n",
              "4                                       838.00   \n",
              "5                                       787.00   \n",
              "6                                       810.00   \n",
              "7                                       841.00   \n",
              "8                                       868.00   \n",
              "9                                       876.00   \n",
              "\n",
              "                          Unnamed: 3                        Unnamed: 4  \\\n",
              "0  3. Producción de madera (CIIU 33)  4. Producción de papel (CIIU 34)   \n",
              "1                           3,485.00                          1,070.00   \n",
              "2                           5,713.00                          1,061.00   \n",
              "3                           5,917.00                          1,126.00   \n",
              "4                           5,877.00                          1,223.00   \n",
              "5                           6,055.00                          1,220.00   \n",
              "6                           5,534.00                          1,257.00   \n",
              "7                           5,704.00                          1,311.00   \n",
              "8                           5,131.00                          1,359.00   \n",
              "9                           5,086.00                          1,366.00   \n",
              "\n",
              "                            Unnamed: 5                        Unnamed: 6  \n",
              "0  5. Producción de químicos (CIIU 35)  6. Otras industrias (CIIU 36-39)  \n",
              "1                             2,076.00                          7,833.00  \n",
              "2                             2,048.00                          9,532.00  \n",
              "3                             2,069.00                          9,257.00  \n",
              "4                             2,000.00                          9,218.00  \n",
              "5                             1,948.00                          9,210.00  \n",
              "6                             1,870.00                          8,941.00  \n",
              "7                             1,899.00                          9,538.00  \n",
              "8                             2,084.00                         10,238.00  \n",
              "9                             1,974.00                          9,518.00  "
            ],
            "text/html": [
              "\n",
              "  <div id=\"df-b8844d19-3a76-4827-a939-5b96b172125a\">\n",
              "    <div class=\"colab-df-container\">\n",
              "      <div>\n",
              "<style scoped>\n",
              "    .dataframe tbody tr th:only-of-type {\n",
              "        vertical-align: middle;\n",
              "    }\n",
              "\n",
              "    .dataframe tbody tr th {\n",
              "        vertical-align: top;\n",
              "    }\n",
              "\n",
              "    .dataframe thead th {\n",
              "        text-align: right;\n",
              "    }\n",
              "</style>\n",
              "<table border=\"1\" class=\"dataframe\">\n",
              "  <thead>\n",
              "    <tr style=\"text-align: right;\">\n",
              "      <th></th>\n",
              "      <th>Unnamed: 0</th>\n",
              "      <th>Unnamed: 1</th>\n",
              "      <th>Unnamed: 2</th>\n",
              "      <th>Unnamed: 3</th>\n",
              "      <th>Unnamed: 4</th>\n",
              "      <th>Unnamed: 5</th>\n",
              "      <th>Unnamed: 6</th>\n",
              "    </tr>\n",
              "  </thead>\n",
              "  <tbody>\n",
              "    <tr>\n",
              "      <th>0</th>\n",
              "      <td>Año</td>\n",
              "      <td>1. Produc.de alimentos y tabaco (CIIU 31)</td>\n",
              "      <td>2. Producción de textiles y cuero (CIIU 32)</td>\n",
              "      <td>3. Producción de madera (CIIU 33)</td>\n",
              "      <td>4. Producción de papel (CIIU 34)</td>\n",
              "      <td>5. Producción de químicos (CIIU 35)</td>\n",
              "      <td>6. Otras industrias (CIIU 36-39)</td>\n",
              "    </tr>\n",
              "    <tr>\n",
              "      <th>1</th>\n",
              "      <td>2010</td>\n",
              "      <td>22,612.00</td>\n",
              "      <td>918.00</td>\n",
              "      <td>3,485.00</td>\n",
              "      <td>1,070.00</td>\n",
              "      <td>2,076.00</td>\n",
              "      <td>7,833.00</td>\n",
              "    </tr>\n",
              "    <tr>\n",
              "      <th>2</th>\n",
              "      <td>2011</td>\n",
              "      <td>17,734.00</td>\n",
              "      <td>886.00</td>\n",
              "      <td>5,713.00</td>\n",
              "      <td>1,061.00</td>\n",
              "      <td>2,048.00</td>\n",
              "      <td>9,532.00</td>\n",
              "    </tr>\n",
              "    <tr>\n",
              "      <th>3</th>\n",
              "      <td>2012</td>\n",
              "      <td>18,489.00</td>\n",
              "      <td>882.00</td>\n",
              "      <td>5,917.00</td>\n",
              "      <td>1,126.00</td>\n",
              "      <td>2,069.00</td>\n",
              "      <td>9,257.00</td>\n",
              "    </tr>\n",
              "    <tr>\n",
              "      <th>4</th>\n",
              "      <td>2013</td>\n",
              "      <td>19,839.00</td>\n",
              "      <td>838.00</td>\n",
              "      <td>5,877.00</td>\n",
              "      <td>1,223.00</td>\n",
              "      <td>2,000.00</td>\n",
              "      <td>9,218.00</td>\n",
              "    </tr>\n",
              "    <tr>\n",
              "      <th>5</th>\n",
              "      <td>2014</td>\n",
              "      <td>19,986.00</td>\n",
              "      <td>787.00</td>\n",
              "      <td>6,055.00</td>\n",
              "      <td>1,220.00</td>\n",
              "      <td>1,948.00</td>\n",
              "      <td>9,210.00</td>\n",
              "    </tr>\n",
              "    <tr>\n",
              "      <th>6</th>\n",
              "      <td>2015</td>\n",
              "      <td>19,956.00</td>\n",
              "      <td>810.00</td>\n",
              "      <td>5,534.00</td>\n",
              "      <td>1,257.00</td>\n",
              "      <td>1,870.00</td>\n",
              "      <td>8,941.00</td>\n",
              "    </tr>\n",
              "    <tr>\n",
              "      <th>7</th>\n",
              "      <td>2016</td>\n",
              "      <td>20,435.00</td>\n",
              "      <td>841.00</td>\n",
              "      <td>5,704.00</td>\n",
              "      <td>1,311.00</td>\n",
              "      <td>1,899.00</td>\n",
              "      <td>9,538.00</td>\n",
              "    </tr>\n",
              "    <tr>\n",
              "      <th>8</th>\n",
              "      <td>2017</td>\n",
              "      <td>20,367.00</td>\n",
              "      <td>868.00</td>\n",
              "      <td>5,131.00</td>\n",
              "      <td>1,359.00</td>\n",
              "      <td>2,084.00</td>\n",
              "      <td>10,238.00</td>\n",
              "    </tr>\n",
              "    <tr>\n",
              "      <th>9</th>\n",
              "      <td>2018</td>\n",
              "      <td>20,442.00</td>\n",
              "      <td>876.00</td>\n",
              "      <td>5,086.00</td>\n",
              "      <td>1,366.00</td>\n",
              "      <td>1,974.00</td>\n",
              "      <td>9,518.00</td>\n",
              "    </tr>\n",
              "  </tbody>\n",
              "</table>\n",
              "</div>\n",
              "      <button class=\"colab-df-convert\" onclick=\"convertToInteractive('df-b8844d19-3a76-4827-a939-5b96b172125a')\"\n",
              "              title=\"Convert this dataframe to an interactive table.\"\n",
              "              style=\"display:none;\">\n",
              "        \n",
              "  <svg xmlns=\"http://www.w3.org/2000/svg\" height=\"24px\"viewBox=\"0 0 24 24\"\n",
              "       width=\"24px\">\n",
              "    <path d=\"M0 0h24v24H0V0z\" fill=\"none\"/>\n",
              "    <path d=\"M18.56 5.44l.94 2.06.94-2.06 2.06-.94-2.06-.94-.94-2.06-.94 2.06-2.06.94zm-11 1L8.5 8.5l.94-2.06 2.06-.94-2.06-.94L8.5 2.5l-.94 2.06-2.06.94zm10 10l.94 2.06.94-2.06 2.06-.94-2.06-.94-.94-2.06-.94 2.06-2.06.94z\"/><path d=\"M17.41 7.96l-1.37-1.37c-.4-.4-.92-.59-1.43-.59-.52 0-1.04.2-1.43.59L10.3 9.45l-7.72 7.72c-.78.78-.78 2.05 0 2.83L4 21.41c.39.39.9.59 1.41.59.51 0 1.02-.2 1.41-.59l7.78-7.78 2.81-2.81c.8-.78.8-2.07 0-2.86zM5.41 20L4 18.59l7.72-7.72 1.47 1.35L5.41 20z\"/>\n",
              "  </svg>\n",
              "      </button>\n",
              "      \n",
              "  <style>\n",
              "    .colab-df-container {\n",
              "      display:flex;\n",
              "      flex-wrap:wrap;\n",
              "      gap: 12px;\n",
              "    }\n",
              "\n",
              "    .colab-df-convert {\n",
              "      background-color: #E8F0FE;\n",
              "      border: none;\n",
              "      border-radius: 50%;\n",
              "      cursor: pointer;\n",
              "      display: none;\n",
              "      fill: #1967D2;\n",
              "      height: 32px;\n",
              "      padding: 0 0 0 0;\n",
              "      width: 32px;\n",
              "    }\n",
              "\n",
              "    .colab-df-convert:hover {\n",
              "      background-color: #E2EBFA;\n",
              "      box-shadow: 0px 1px 2px rgba(60, 64, 67, 0.3), 0px 1px 3px 1px rgba(60, 64, 67, 0.15);\n",
              "      fill: #174EA6;\n",
              "    }\n",
              "\n",
              "    [theme=dark] .colab-df-convert {\n",
              "      background-color: #3B4455;\n",
              "      fill: #D2E3FC;\n",
              "    }\n",
              "\n",
              "    [theme=dark] .colab-df-convert:hover {\n",
              "      background-color: #434B5C;\n",
              "      box-shadow: 0px 1px 3px 1px rgba(0, 0, 0, 0.15);\n",
              "      filter: drop-shadow(0px 1px 2px rgba(0, 0, 0, 0.3));\n",
              "      fill: #FFFFFF;\n",
              "    }\n",
              "  </style>\n",
              "\n",
              "      <script>\n",
              "        const buttonEl =\n",
              "          document.querySelector('#df-b8844d19-3a76-4827-a939-5b96b172125a button.colab-df-convert');\n",
              "        buttonEl.style.display =\n",
              "          google.colab.kernel.accessAllowed ? 'block' : 'none';\n",
              "\n",
              "        async function convertToInteractive(key) {\n",
              "          const element = document.querySelector('#df-b8844d19-3a76-4827-a939-5b96b172125a');\n",
              "          const dataTable =\n",
              "            await google.colab.kernel.invokeFunction('convertToInteractive',\n",
              "                                                     [key], {});\n",
              "          if (!dataTable) return;\n",
              "\n",
              "          const docLinkHtml = 'Like what you see? Visit the ' +\n",
              "            '<a target=\"_blank\" href=https://colab.research.google.com/notebooks/data_table.ipynb>data table notebook</a>'\n",
              "            + ' to learn more about interactive tables.';\n",
              "          element.innerHTML = '';\n",
              "          dataTable['output_type'] = 'display_data';\n",
              "          await google.colab.output.renderOutput(dataTable, element);\n",
              "          const docLink = document.createElement('div');\n",
              "          docLink.innerHTML = docLinkHtml;\n",
              "          element.appendChild(docLink);\n",
              "        }\n",
              "      </script>\n",
              "    </div>\n",
              "  </div>\n",
              "  "
            ]
          },
          "metadata": {},
          "execution_count": 103
        }
      ]
    },
    {
      "cell_type": "code",
      "source": [
        "#C.Recognizing data values\n",
        "print(Industry_Consumption.dtypes)\n",
        "print('Las secuencias de caracteres pueden contener números y / o caracteres, en este caso los datos son numéricos.')"
      ],
      "metadata": {
        "colab": {
          "base_uri": "https://localhost:8080/"
        },
        "id": "fGebWF-cnVdL",
        "outputId": "a22bd182-e524-47e0-c964-71f18eeb749c"
      },
      "execution_count": null,
      "outputs": [
        {
          "output_type": "stream",
          "name": "stdout",
          "text": [
            "Unnamed: 0    object\n",
            "Unnamed: 1    object\n",
            "Unnamed: 2    object\n",
            "Unnamed: 3    object\n",
            "Unnamed: 4    object\n",
            "Unnamed: 5    object\n",
            "Unnamed: 6    object\n",
            "dtype: object\n",
            "Las secuencias de caracteres pueden contener números y / o caracteres, en este caso los datos son numéricos.\n"
          ]
        }
      ]
    },
    {
      "cell_type": "code",
      "source": [
        "#D. Scatter Plot"
      ],
      "metadata": {
        "id": "gB6J70zDnXhz"
      },
      "execution_count": null,
      "outputs": []
    },
    {
      "cell_type": "code",
      "source": [
        "#D.1 Scatter Graphic 1 (food & tobacco)\n",
        "Industry_Consumption.plot.scatter(y=\"Unnamed: 1\", x=\"Unnamed: 0\")"
      ],
      "metadata": {
        "colab": {
          "base_uri": "https://localhost:8080/",
          "height": 296
        },
        "id": "hjFE1eYbnX3B",
        "outputId": "d8751556-8726-45df-eaf4-cf0f11f8ba4e"
      },
      "execution_count": null,
      "outputs": [
        {
          "output_type": "execute_result",
          "data": {
            "text/plain": [
              "<matplotlib.axes._subplots.AxesSubplot at 0x7f70e8fe5610>"
            ]
          },
          "metadata": {},
          "execution_count": 106
        },
        {
          "output_type": "display_data",
          "data": {
            "text/plain": [
              "<Figure size 432x288 with 1 Axes>"
            ],
            "image/png": "[encoded data removed]"
          },
          "metadata": {
            "needs_background": "light"
          }
        }
      ]
    },
    {
      "cell_type": "code",
      "source": [
        "#D.2 Scatter Graphic 2 (textiles & leather)\n",
        "Industry_Consumption.plot.scatter(y=\"Unnamed: 0\", x=\"Unnamed: 2\")"
      ],
      "metadata": {
        "colab": {
          "base_uri": "https://localhost:8080/",
          "height": 297
        },
        "id": "wmictjrinYor",
        "outputId": "1981175d-9172-47c7-93ce-9a4a5f9fe303"
      },
      "execution_count": null,
      "outputs": [
        {
          "output_type": "execute_result",
          "data": {
            "text/plain": [
              "<matplotlib.axes._subplots.AxesSubplot at 0x7f70e8f5a790>"
            ]
          },
          "metadata": {},
          "execution_count": 107
        },
        {
          "output_type": "display_data",
          "data": {
            "text/plain": [
              "<Figure size 432x288 with 1 Axes>"
            ],
            "image/png": "[encoded data removed]"
          },
          "metadata": {
            "needs_background": "light"
          }
        }
      ]
    },
    {
      "cell_type": "code",
      "source": [
        "#D.3 Scatter Graphic 3 (wood)\n",
        "Industry_Consumption.plot.scatter(y=\"Unnamed: 0\", x=\"Unnamed: 3\")"
      ],
      "metadata": {
        "colab": {
          "base_uri": "https://localhost:8080/",
          "height": 296
        },
        "id": "ClapX7hpnZgK",
        "outputId": "e02ee267-1e2b-46cd-b610-9d6f012ddc62"
      },
      "execution_count": null,
      "outputs": [
        {
          "output_type": "execute_result",
          "data": {
            "text/plain": [
              "<matplotlib.axes._subplots.AxesSubplot at 0x7f70e8f56ad0>"
            ]
          },
          "metadata": {},
          "execution_count": 108
        },
        {
          "output_type": "display_data",
          "data": {
            "text/plain": [
              "<Figure size 432x288 with 1 Axes>"
            ],
            "image/png": "[encoded data removed]"
          },
          "metadata": {
            "needs_background": "light"
          }
        }
      ]
    },
    {
      "cell_type": "code",
      "source": [
        "#D.4 Scatter Graphic 4 (paper)\n",
        "Industry_Consumption.plot.scatter(y=\"Unnamed: 0\", x=\"Unnamed: 4\")"
      ],
      "metadata": {
        "colab": {
          "base_uri": "https://localhost:8080/",
          "height": 297
        },
        "id": "Qc1GRY3ynaX7",
        "outputId": "6ec8ea19-e398-4120-f122-c187538f2476"
      },
      "execution_count": null,
      "outputs": [
        {
          "output_type": "execute_result",
          "data": {
            "text/plain": [
              "<matplotlib.axes._subplots.AxesSubplot at 0x7f70e8f18810>"
            ]
          },
          "metadata": {},
          "execution_count": 109
        },
        {
          "output_type": "display_data",
          "data": {
            "text/plain": [
              "<Figure size 432x288 with 1 Axes>"
            ],
            "image/png": "[encoded data removed]"
          },
          "metadata": {
            "needs_background": "light"
          }
        }
      ]
    },
    {
      "cell_type": "code",
      "source": [
        "#D.5 Scatter Graphic 5 (Chemicals)\n",
        "Industry_Consumption.plot.scatter(y=\"Unnamed: 0\", x=\"Unnamed: 5\")"
      ],
      "metadata": {
        "colab": {
          "base_uri": "https://localhost:8080/",
          "height": 297
        },
        "id": "-tCV6Vz1nbE8",
        "outputId": "d9b24822-1afa-4391-c1bc-dc9b17d97bb3"
      },
      "execution_count": null,
      "outputs": [
        {
          "output_type": "execute_result",
          "data": {
            "text/plain": [
              "<matplotlib.axes._subplots.AxesSubplot at 0x7f70e8e32e10>"
            ]
          },
          "metadata": {},
          "execution_count": 110
        },
        {
          "output_type": "display_data",
          "data": {
            "text/plain": [
              "<Figure size 432x288 with 1 Axes>"
            ],
            "image/png": "[encoded data removed]"
          },
          "metadata": {
            "needs_background": "light"
          }
        }
      ]
    },
    {
      "cell_type": "code",
      "source": [
        "#D.6 Scatter Graphic 6 (Others)\n",
        "Industry_Consumption.plot.scatter(y=\"Unnamed: 0\", x=\"Unnamed: 6\")"
      ],
      "metadata": {
        "colab": {
          "base_uri": "https://localhost:8080/",
          "height": 296
        },
        "id": "PPrIBwRSndKH",
        "outputId": "e2d34f71-f91f-4d11-ae71-200a37fce4e6"
      },
      "execution_count": null,
      "outputs": [
        {
          "output_type": "execute_result",
          "data": {
            "text/plain": [
              "<matplotlib.axes._subplots.AxesSubplot at 0x7f70e8e114d0>"
            ]
          },
          "metadata": {},
          "execution_count": 111
        },
        {
          "output_type": "display_data",
          "data": {
            "text/plain": [
              "<Figure size 432x288 with 1 Axes>"
            ],
            "image/png": "[encoded data removed]"
          },
          "metadata": {
            "needs_background": "light"
          }
        }
      ]
    },
    {
      "cell_type": "code",
      "source": [
        "##4 Transport Energy Consumption"
      ],
      "metadata": {
        "id": "y4upos5ZneFU"
      },
      "execution_count": null,
      "outputs": []
    },
    {
      "cell_type": "code",
      "source": [
        "#A. Importing Data\n",
        "Transport_Consumption = pd.read_csv(\"Transporte.csv\" , dtype = \"object\")"
      ],
      "metadata": {
        "id": "Ah7urVmyne8T"
      },
      "execution_count": null,
      "outputs": []
    },
    {
      "cell_type": "code",
      "source": [
        "#B. Changing Description\n",
        "Transport_Consumption.columns = ['Año', 'Terrestre(Megavatios)','Marítimo(Gigavatios)', 'Aéreo(Megavatios)']"
      ],
      "metadata": {
        "id": "A5k19HADnfuq"
      },
      "execution_count": null,
      "outputs": []
    },
    {
      "cell_type": "code",
      "source": [
        "#C. Table\n",
        "Transport_Consumption"
      ],
      "metadata": {
        "colab": {
          "base_uri": "https://localhost:8080/",
          "height": 332
        },
        "id": "g4iPJnKPngcO",
        "outputId": "da7114cf-2285-4c9c-9d48-af57b74247fb"
      },
      "execution_count": null,
      "outputs": [
        {
          "output_type": "execute_result",
          "data": {
            "text/plain": [
              "    Año Terrestre(Megavatios) Marítimo(Gigavatios) Aéreo(Megavatios)\n",
              "0  2010             63,360.00                85.00          6,874.00\n",
              "1  2011             64,876.00                84.00          7,149.00\n",
              "2  2012             66,765.00                56.00          7,290.00\n",
              "3  2013             67,772.00                90.00          6,775.00\n",
              "4  2014             69,263.00                78.00          6,845.00\n",
              "5  2015             73,986.00                91.00          7,448.00\n",
              "6  2016             79,120.00                58.00          8,360.00\n",
              "7  2017             80,669.00                65.00          8,327.00\n",
              "8  2018             81,953.00                51.00          9,227.00"
            ],
            "text/html": [
              "\n",
              "  <div id=\"df-932221e3-f1ea-4e56-a902-a548ef35b857\">\n",
              "    <div class=\"colab-df-container\">\n",
              "      <div>\n",
              "<style scoped>\n",
              "    .dataframe tbody tr th:only-of-type {\n",
              "        vertical-align: middle;\n",
              "    }\n",
              "\n",
              "    .dataframe tbody tr th {\n",
              "        vertical-align: top;\n",
              "    }\n",
              "\n",
              "    .dataframe thead th {\n",
              "        text-align: right;\n",
              "    }\n",
              "</style>\n",
              "<table border=\"1\" class=\"dataframe\">\n",
              "  <thead>\n",
              "    <tr style=\"text-align: right;\">\n",
              "      <th></th>\n",
              "      <th>Año</th>\n",
              "      <th>Terrestre(Megavatios)</th>\n",
              "      <th>Marítimo(Gigavatios)</th>\n",
              "      <th>Aéreo(Megavatios)</th>\n",
              "    </tr>\n",
              "  </thead>\n",
              "  <tbody>\n",
              "    <tr>\n",
              "      <th>0</th>\n",
              "      <td>2010</td>\n",
              "      <td>63,360.00</td>\n",
              "      <td>85.00</td>\n",
              "      <td>6,874.00</td>\n",
              "    </tr>\n",
              "    <tr>\n",
              "      <th>1</th>\n",
              "      <td>2011</td>\n",
              "      <td>64,876.00</td>\n",
              "      <td>84.00</td>\n",
              "      <td>7,149.00</td>\n",
              "    </tr>\n",
              "    <tr>\n",
              "      <th>2</th>\n",
              "      <td>2012</td>\n",
              "      <td>66,765.00</td>\n",
              "      <td>56.00</td>\n",
              "      <td>7,290.00</td>\n",
              "    </tr>\n",
              "    <tr>\n",
              "      <th>3</th>\n",
              "      <td>2013</td>\n",
              "      <td>67,772.00</td>\n",
              "      <td>90.00</td>\n",
              "      <td>6,775.00</td>\n",
              "    </tr>\n",
              "    <tr>\n",
              "      <th>4</th>\n",
              "      <td>2014</td>\n",
              "      <td>69,263.00</td>\n",
              "      <td>78.00</td>\n",
              "      <td>6,845.00</td>\n",
              "    </tr>\n",
              "    <tr>\n",
              "      <th>5</th>\n",
              "      <td>2015</td>\n",
              "      <td>73,986.00</td>\n",
              "      <td>91.00</td>\n",
              "      <td>7,448.00</td>\n",
              "    </tr>\n",
              "    <tr>\n",
              "      <th>6</th>\n",
              "      <td>2016</td>\n",
              "      <td>79,120.00</td>\n",
              "      <td>58.00</td>\n",
              "      <td>8,360.00</td>\n",
              "    </tr>\n",
              "    <tr>\n",
              "      <th>7</th>\n",
              "      <td>2017</td>\n",
              "      <td>80,669.00</td>\n",
              "      <td>65.00</td>\n",
              "      <td>8,327.00</td>\n",
              "    </tr>\n",
              "    <tr>\n",
              "      <th>8</th>\n",
              "      <td>2018</td>\n",
              "      <td>81,953.00</td>\n",
              "      <td>51.00</td>\n",
              "      <td>9,227.00</td>\n",
              "    </tr>\n",
              "  </tbody>\n",
              "</table>\n",
              "</div>\n",
              "      <button class=\"colab-df-convert\" onclick=\"convertToInteractive('df-932221e3-f1ea-4e56-a902-a548ef35b857')\"\n",
              "              title=\"Convert this dataframe to an interactive table.\"\n",
              "              style=\"display:none;\">\n",
              "        \n",
              "  <svg xmlns=\"http://www.w3.org/2000/svg\" height=\"24px\"viewBox=\"0 0 24 24\"\n",
              "       width=\"24px\">\n",
              "    <path d=\"M0 0h24v24H0V0z\" fill=\"none\"/>\n",
              "    <path d=\"M18.56 5.44l.94 2.06.94-2.06 2.06-.94-2.06-.94-.94-2.06-.94 2.06-2.06.94zm-11 1L8.5 8.5l.94-2.06 2.06-.94-2.06-.94L8.5 2.5l-.94 2.06-2.06.94zm10 10l.94 2.06.94-2.06 2.06-.94-2.06-.94-.94-2.06-.94 2.06-2.06.94z\"/><path d=\"M17.41 7.96l-1.37-1.37c-.4-.4-.92-.59-1.43-.59-.52 0-1.04.2-1.43.59L10.3 9.45l-7.72 7.72c-.78.78-.78 2.05 0 2.83L4 21.41c.39.39.9.59 1.41.59.51 0 1.02-.2 1.41-.59l7.78-7.78 2.81-2.81c.8-.78.8-2.07 0-2.86zM5.41 20L4 18.59l7.72-7.72 1.47 1.35L5.41 20z\"/>\n",
              "  </svg>\n",
              "      </button>\n",
              "      \n",
              "  <style>\n",
              "    .colab-df-container {\n",
              "      display:flex;\n",
              "      flex-wrap:wrap;\n",
              "      gap: 12px;\n",
              "    }\n",
              "\n",
              "    .colab-df-convert {\n",
              "      background-color: #E8F0FE;\n",
              "      border: none;\n",
              "      border-radius: 50%;\n",
              "      cursor: pointer;\n",
              "      display: none;\n",
              "      fill: #1967D2;\n",
              "      height: 32px;\n",
              "      padding: 0 0 0 0;\n",
              "      width: 32px;\n",
              "    }\n",
              "\n",
              "    .colab-df-convert:hover {\n",
              "      background-color: #E2EBFA;\n",
              "      box-shadow: 0px 1px 2px rgba(60, 64, 67, 0.3), 0px 1px 3px 1px rgba(60, 64, 67, 0.15);\n",
              "      fill: #174EA6;\n",
              "    }\n",
              "\n",
              "    [theme=dark] .colab-df-convert {\n",
              "      background-color: #3B4455;\n",
              "      fill: #D2E3FC;\n",
              "    }\n",
              "\n",
              "    [theme=dark] .colab-df-convert:hover {\n",
              "      background-color: #434B5C;\n",
              "      box-shadow: 0px 1px 3px 1px rgba(0, 0, 0, 0.15);\n",
              "      filter: drop-shadow(0px 1px 2px rgba(0, 0, 0, 0.3));\n",
              "      fill: #FFFFFF;\n",
              "    }\n",
              "  </style>\n",
              "\n",
              "      <script>\n",
              "        const buttonEl =\n",
              "          document.querySelector('#df-932221e3-f1ea-4e56-a902-a548ef35b857 button.colab-df-convert');\n",
              "        buttonEl.style.display =\n",
              "          google.colab.kernel.accessAllowed ? 'block' : 'none';\n",
              "\n",
              "        async function convertToInteractive(key) {\n",
              "          const element = document.querySelector('#df-932221e3-f1ea-4e56-a902-a548ef35b857');\n",
              "          const dataTable =\n",
              "            await google.colab.kernel.invokeFunction('convertToInteractive',\n",
              "                                                     [key], {});\n",
              "          if (!dataTable) return;\n",
              "\n",
              "          const docLinkHtml = 'Like what you see? Visit the ' +\n",
              "            '<a target=\"_blank\" href=https://colab.research.google.com/notebooks/data_table.ipynb>data table notebook</a>'\n",
              "            + ' to learn more about interactive tables.';\n",
              "          element.innerHTML = '';\n",
              "          dataTable['output_type'] = 'display_data';\n",
              "          await google.colab.output.renderOutput(dataTable, element);\n",
              "          const docLink = document.createElement('div');\n",
              "          docLink.innerHTML = docLinkHtml;\n",
              "          element.appendChild(docLink);\n",
              "        }\n",
              "      </script>\n",
              "    </div>\n",
              "  </div>\n",
              "  "
            ]
          },
          "metadata": {},
          "execution_count": 115
        }
      ]
    },
    {
      "cell_type": "code",
      "source": [
        "#D. Recognizing data values\n",
        "print(Transport_Consumption.dtypes)\n",
        "print('Las secuencias de caracteres pueden contener números y / o caracteres, en este caso los datos son numéricos.')"
      ],
      "metadata": {
        "colab": {
          "base_uri": "https://localhost:8080/"
        },
        "id": "H0z8GP4ung9y",
        "outputId": "17ccf64d-0596-4b68-a51e-744630f9a093"
      },
      "execution_count": null,
      "outputs": [
        {
          "output_type": "stream",
          "name": "stdout",
          "text": [
            "Año                      object\n",
            "Terrestre(Megavatios)    object\n",
            "Marítimo(Gigavatios)     object\n",
            "Aéreo(Megavatios)        object\n",
            "dtype: object\n",
            "Las secuencias de caracteres pueden contener números y / o caracteres, en este caso los datos son numéricos.\n"
          ]
        }
      ]
    },
    {
      "cell_type": "code",
      "source": [
        "#E. Scatter Plots"
      ],
      "metadata": {
        "id": "a0QDLndqnib_"
      },
      "execution_count": null,
      "outputs": []
    },
    {
      "cell_type": "code",
      "source": [
        "#E.1 Scatter Graphic 1 (land area)\n",
        "Transport_Consumption.plot.scatter(y=\"Año\", x=\"Terrestre(Megavatios)\")"
      ],
      "metadata": {
        "colab": {
          "base_uri": "https://localhost:8080/",
          "height": 296
        },
        "id": "dCdpEnBqnjhi",
        "outputId": "3b6e34cd-6579-4a40-db57-53331e174061"
      },
      "execution_count": null,
      "outputs": [
        {
          "output_type": "execute_result",
          "data": {
            "text/plain": [
              "<matplotlib.axes._subplots.AxesSubplot at 0x7f70e8d41690>"
            ]
          },
          "metadata": {},
          "execution_count": 118
        },
        {
          "output_type": "display_data",
          "data": {
            "text/plain": [
              "<Figure size 432x288 with 1 Axes>"
            ],
            "image/png": "[encoded data removed]"
          },
          "metadata": {
            "needs_background": "light"
          }
        }
      ]
    },
    {
      "cell_type": "code",
      "source": [
        "#E.2. Scatter Graphic 2 (sea area)\n",
        "Transport_Consumption.plot.scatter(y=\"Año\", x=\"Marítimo(Gigavatios)\")"
      ],
      "metadata": {
        "colab": {
          "base_uri": "https://localhost:8080/",
          "height": 297
        },
        "id": "ck-SIORFnkR8",
        "outputId": "31d35730-0bd9-49d2-f6ad-608d0451f92f"
      },
      "execution_count": null,
      "outputs": [
        {
          "output_type": "execute_result",
          "data": {
            "text/plain": [
              "<matplotlib.axes._subplots.AxesSubplot at 0x7f70e8ca3ad0>"
            ]
          },
          "metadata": {},
          "execution_count": 119
        },
        {
          "output_type": "display_data",
          "data": {
            "text/plain": [
              "<Figure size 432x288 with 1 Axes>"
            ],
            "image/png": "[encoded data removed]"
          },
          "metadata": {
            "needs_background": "light"
          }
        }
      ]
    },
    {
      "cell_type": "code",
      "source": [
        "#E.3. Scatter Graphic 3 (aerial area)\n",
        "Transport_Consumption.plot.scatter(y=\"Año\", x=\"Aéreo(Megavatios)\")"
      ],
      "metadata": {
        "colab": {
          "base_uri": "https://localhost:8080/",
          "height": 297
        },
        "id": "1020Remynlm4",
        "outputId": "8e0027a6-0014-4e3f-9800-f22dec75f99c"
      },
      "execution_count": null,
      "outputs": [
        {
          "output_type": "execute_result",
          "data": {
            "text/plain": [
              "<matplotlib.axes._subplots.AxesSubplot at 0x7f70e8ca3150>"
            ]
          },
          "metadata": {},
          "execution_count": 120
        },
        {
          "output_type": "display_data",
          "data": {
            "text/plain": [
              "<Figure size 432x288 with 1 Axes>"
            ],
            "image/png": "[encoded data removed]"
          },
          "metadata": {
            "needs_background": "light"
          }
        }
      ]
    },
    {
      "cell_type": "code",
      "source": [
        "##5 Consumo Final por Sector"
      ],
      "metadata": {
        "id": "5ka0bAslzO8H"
      },
      "execution_count": null,
      "outputs": []
    },
    {
      "cell_type": "code",
      "source": [
        "## A. Inporting Data\n",
        "final_consumption_sector = pd.read_excel(\"cfxsector.xlsx\" , dtype = \"object\")\n",
        "final_consumption_sector"
      ],
      "metadata": {
        "colab": {
          "base_uri": "https://localhost:8080/",
          "height": 332
        },
        "id": "tai4xCenyDHk",
        "outputId": "b78e178f-4cd0-4811-f659-5723a596f8e2"
      },
      "execution_count": null,
      "outputs": [
        {
          "output_type": "execute_result",
          "data": {
            "text/plain": [
              "    Año Residencial Servicios Comercial Publico Transporte Industria  \\\n",
              "0  2010       23382      6146      3513    3869      70319     37995   \n",
              "1  2011       22139      6087      3479    3951      72109     36973   \n",
              "2  2012       21586      6206      3636    4230      74111     37740   \n",
              "3  2013       21366      6246      3870    4296      74637     38994   \n",
              "4  2014       20603      6417      3980    4454      76186     39206   \n",
              "5  2015       20791      6671      4114    4575      81526     38368   \n",
              "6  2016       20620      7042      4306    4687      87538     39728   \n",
              "7  2017       20652      7175      4322    4690      89061     40047   \n",
              "8  2018       19481      7303      4464    4803      91231     39262   \n",
              "\n",
              "  Agropecuario  \n",
              "0         2854  \n",
              "1         3092  \n",
              "2         3242  \n",
              "3         3273  \n",
              "4         3254  \n",
              "5         3327  \n",
              "6         3584  \n",
              "7         3761  \n",
              "8         3337  "
            ],
            "text/html": [
              "\n",
              "  <div id=\"df-77f63d55-8d46-4113-82c6-02ae1bc3bcf8\">\n",
              "    <div class=\"colab-df-container\">\n",
              "      <div>\n",
              "<style scoped>\n",
              "    .dataframe tbody tr th:only-of-type {\n",
              "        vertical-align: middle;\n",
              "    }\n",
              "\n",
              "    .dataframe tbody tr th {\n",
              "        vertical-align: top;\n",
              "    }\n",
              "\n",
              "    .dataframe thead th {\n",
              "        text-align: right;\n",
              "    }\n",
              "</style>\n",
              "<table border=\"1\" class=\"dataframe\">\n",
              "  <thead>\n",
              "    <tr style=\"text-align: right;\">\n",
              "      <th></th>\n",
              "      <th>Año</th>\n",
              "      <th>Residencial</th>\n",
              "      <th>Servicios</th>\n",
              "      <th>Comercial</th>\n",
              "      <th>Publico</th>\n",
              "      <th>Transporte</th>\n",
              "      <th>Industria</th>\n",
              "      <th>Agropecuario</th>\n",
              "    </tr>\n",
              "  </thead>\n",
              "  <tbody>\n",
              "    <tr>\n",
              "      <th>0</th>\n",
              "      <td>2010</td>\n",
              "      <td>23382</td>\n",
              "      <td>6146</td>\n",
              "      <td>3513</td>\n",
              "      <td>3869</td>\n",
              "      <td>70319</td>\n",
              "      <td>37995</td>\n",
              "      <td>2854</td>\n",
              "    </tr>\n",
              "    <tr>\n",
              "      <th>1</th>\n",
              "      <td>2011</td>\n",
              "      <td>22139</td>\n",
              "      <td>6087</td>\n",
              "      <td>3479</td>\n",
              "      <td>3951</td>\n",
              "      <td>72109</td>\n",
              "      <td>36973</td>\n",
              "      <td>3092</td>\n",
              "    </tr>\n",
              "    <tr>\n",
              "      <th>2</th>\n",
              "      <td>2012</td>\n",
              "      <td>21586</td>\n",
              "      <td>6206</td>\n",
              "      <td>3636</td>\n",
              "      <td>4230</td>\n",
              "      <td>74111</td>\n",
              "      <td>37740</td>\n",
              "      <td>3242</td>\n",
              "    </tr>\n",
              "    <tr>\n",
              "      <th>3</th>\n",
              "      <td>2013</td>\n",
              "      <td>21366</td>\n",
              "      <td>6246</td>\n",
              "      <td>3870</td>\n",
              "      <td>4296</td>\n",
              "      <td>74637</td>\n",
              "      <td>38994</td>\n",
              "      <td>3273</td>\n",
              "    </tr>\n",
              "    <tr>\n",
              "      <th>4</th>\n",
              "      <td>2014</td>\n",
              "      <td>20603</td>\n",
              "      <td>6417</td>\n",
              "      <td>3980</td>\n",
              "      <td>4454</td>\n",
              "      <td>76186</td>\n",
              "      <td>39206</td>\n",
              "      <td>3254</td>\n",
              "    </tr>\n",
              "    <tr>\n",
              "      <th>5</th>\n",
              "      <td>2015</td>\n",
              "      <td>20791</td>\n",
              "      <td>6671</td>\n",
              "      <td>4114</td>\n",
              "      <td>4575</td>\n",
              "      <td>81526</td>\n",
              "      <td>38368</td>\n",
              "      <td>3327</td>\n",
              "    </tr>\n",
              "    <tr>\n",
              "      <th>6</th>\n",
              "      <td>2016</td>\n",
              "      <td>20620</td>\n",
              "      <td>7042</td>\n",
              "      <td>4306</td>\n",
              "      <td>4687</td>\n",
              "      <td>87538</td>\n",
              "      <td>39728</td>\n",
              "      <td>3584</td>\n",
              "    </tr>\n",
              "    <tr>\n",
              "      <th>7</th>\n",
              "      <td>2017</td>\n",
              "      <td>20652</td>\n",
              "      <td>7175</td>\n",
              "      <td>4322</td>\n",
              "      <td>4690</td>\n",
              "      <td>89061</td>\n",
              "      <td>40047</td>\n",
              "      <td>3761</td>\n",
              "    </tr>\n",
              "    <tr>\n",
              "      <th>8</th>\n",
              "      <td>2018</td>\n",
              "      <td>19481</td>\n",
              "      <td>7303</td>\n",
              "      <td>4464</td>\n",
              "      <td>4803</td>\n",
              "      <td>91231</td>\n",
              "      <td>39262</td>\n",
              "      <td>3337</td>\n",
              "    </tr>\n",
              "  </tbody>\n",
              "</table>\n",
              "</div>\n",
              "      <button class=\"colab-df-convert\" onclick=\"convertToInteractive('df-77f63d55-8d46-4113-82c6-02ae1bc3bcf8')\"\n",
              "              title=\"Convert this dataframe to an interactive table.\"\n",
              "              style=\"display:none;\">\n",
              "        \n",
              "  <svg xmlns=\"http://www.w3.org/2000/svg\" height=\"24px\"viewBox=\"0 0 24 24\"\n",
              "       width=\"24px\">\n",
              "    <path d=\"M0 0h24v24H0V0z\" fill=\"none\"/>\n",
              "    <path d=\"M18.56 5.44l.94 2.06.94-2.06 2.06-.94-2.06-.94-.94-2.06-.94 2.06-2.06.94zm-11 1L8.5 8.5l.94-2.06 2.06-.94-2.06-.94L8.5 2.5l-.94 2.06-2.06.94zm10 10l.94 2.06.94-2.06 2.06-.94-2.06-.94-.94-2.06-.94 2.06-2.06.94z\"/><path d=\"M17.41 7.96l-1.37-1.37c-.4-.4-.92-.59-1.43-.59-.52 0-1.04.2-1.43.59L10.3 9.45l-7.72 7.72c-.78.78-.78 2.05 0 2.83L4 21.41c.39.39.9.59 1.41.59.51 0 1.02-.2 1.41-.59l7.78-7.78 2.81-2.81c.8-.78.8-2.07 0-2.86zM5.41 20L4 18.59l7.72-7.72 1.47 1.35L5.41 20z\"/>\n",
              "  </svg>\n",
              "      </button>\n",
              "      \n",
              "  <style>\n",
              "    .colab-df-container {\n",
              "      display:flex;\n",
              "      flex-wrap:wrap;\n",
              "      gap: 12px;\n",
              "    }\n",
              "\n",
              "    .colab-df-convert {\n",
              "      background-color: #E8F0FE;\n",
              "      border: none;\n",
              "      border-radius: 50%;\n",
              "      cursor: pointer;\n",
              "      display: none;\n",
              "      fill: #1967D2;\n",
              "      height: 32px;\n",
              "      padding: 0 0 0 0;\n",
              "      width: 32px;\n",
              "    }\n",
              "\n",
              "    .colab-df-convert:hover {\n",
              "      background-color: #E2EBFA;\n",
              "      box-shadow: 0px 1px 2px rgba(60, 64, 67, 0.3), 0px 1px 3px 1px rgba(60, 64, 67, 0.15);\n",
              "      fill: #174EA6;\n",
              "    }\n",
              "\n",
              "    [theme=dark] .colab-df-convert {\n",
              "      background-color: #3B4455;\n",
              "      fill: #D2E3FC;\n",
              "    }\n",
              "\n",
              "    [theme=dark] .colab-df-convert:hover {\n",
              "      background-color: #434B5C;\n",
              "      box-shadow: 0px 1px 3px 1px rgba(0, 0, 0, 0.15);\n",
              "      filter: drop-shadow(0px 1px 2px rgba(0, 0, 0, 0.3));\n",
              "      fill: #FFFFFF;\n",
              "    }\n",
              "  </style>\n",
              "\n",
              "      <script>\n",
              "        const buttonEl =\n",
              "          document.querySelector('#df-77f63d55-8d46-4113-82c6-02ae1bc3bcf8 button.colab-df-convert');\n",
              "        buttonEl.style.display =\n",
              "          google.colab.kernel.accessAllowed ? 'block' : 'none';\n",
              "\n",
              "        async function convertToInteractive(key) {\n",
              "          const element = document.querySelector('#df-77f63d55-8d46-4113-82c6-02ae1bc3bcf8');\n",
              "          const dataTable =\n",
              "            await google.colab.kernel.invokeFunction('convertToInteractive',\n",
              "                                                     [key], {});\n",
              "          if (!dataTable) return;\n",
              "\n",
              "          const docLinkHtml = 'Like what you see? Visit the ' +\n",
              "            '<a target=\"_blank\" href=https://colab.research.google.com/notebooks/data_table.ipynb>data table notebook</a>'\n",
              "            + ' to learn more about interactive tables.';\n",
              "          element.innerHTML = '';\n",
              "          dataTable['output_type'] = 'display_data';\n",
              "          await google.colab.output.renderOutput(dataTable, element);\n",
              "          const docLink = document.createElement('div');\n",
              "          docLink.innerHTML = docLinkHtml;\n",
              "          element.appendChild(docLink);\n",
              "        }\n",
              "      </script>\n",
              "    </div>\n",
              "  </div>\n",
              "  "
            ]
          },
          "metadata": {},
          "execution_count": 122
        }
      ]
    },
    {
      "cell_type": "code",
      "source": [
        "#B. Changing Description\n",
        "final_consumption_sector.columns = ['Año', 'Residencial(Megavatios)','Servicios(Megavatios)', 'Comercial(Megavatios)', 'Publico(Megavatios)', 'Transporte(Megavatios)', 'Industria (Megavatios)', 'Agropecuario (Megavatios)']"
      ],
      "metadata": {
        "id": "CoLT6_X1zatF"
      },
      "execution_count": null,
      "outputs": []
    },
    {
      "cell_type": "code",
      "source": [
        "#C. Table\n",
        "final_consumption_sector"
      ],
      "metadata": {
        "colab": {
          "base_uri": "https://localhost:8080/",
          "height": 413
        },
        "id": "H13cRuXE0LRm",
        "outputId": "e337a168-1091-4622-ebe2-a0c60b1a3165"
      },
      "execution_count": null,
      "outputs": [
        {
          "output_type": "execute_result",
          "data": {
            "text/plain": [
              "    Año Residencial(Megavatios) Servicios(Megavatios) Comercial(Megavatios)  \\\n",
              "0  2010                   23382                  6146                  3513   \n",
              "1  2011                   22139                  6087                  3479   \n",
              "2  2012                   21586                  6206                  3636   \n",
              "3  2013                   21366                  6246                  3870   \n",
              "4  2014                   20603                  6417                  3980   \n",
              "5  2015                   20791                  6671                  4114   \n",
              "6  2016                   20620                  7042                  4306   \n",
              "7  2017                   20652                  7175                  4322   \n",
              "8  2018                   19481                  7303                  4464   \n",
              "\n",
              "  Publico(Megavatios) Transporte(Megavatios) Industria (Megavatios)  \\\n",
              "0                3869                  70319                  37995   \n",
              "1                3951                  72109                  36973   \n",
              "2                4230                  74111                  37740   \n",
              "3                4296                  74637                  38994   \n",
              "4                4454                  76186                  39206   \n",
              "5                4575                  81526                  38368   \n",
              "6                4687                  87538                  39728   \n",
              "7                4690                  89061                  40047   \n",
              "8                4803                  91231                  39262   \n",
              "\n",
              "  Agropecuario (Megavatios)  \n",
              "0                      2854  \n",
              "1                      3092  \n",
              "2                      3242  \n",
              "3                      3273  \n",
              "4                      3254  \n",
              "5                      3327  \n",
              "6                      3584  \n",
              "7                      3761  \n",
              "8                      3337  "
            ],
            "text/html": [
              "\n",
              "  <div id=\"df-590cde30-9af2-456c-a75d-e5bd0b998236\">\n",
              "    <div class=\"colab-df-container\">\n",
              "      <div>\n",
              "<style scoped>\n",
              "    .dataframe tbody tr th:only-of-type {\n",
              "        vertical-align: middle;\n",
              "    }\n",
              "\n",
              "    .dataframe tbody tr th {\n",
              "        vertical-align: top;\n",
              "    }\n",
              "\n",
              "    .dataframe thead th {\n",
              "        text-align: right;\n",
              "    }\n",
              "</style>\n",
              "<table border=\"1\" class=\"dataframe\">\n",
              "  <thead>\n",
              "    <tr style=\"text-align: right;\">\n",
              "      <th></th>\n",
              "      <th>Año</th>\n",
              "      <th>Residencial(Megavatios)</th>\n",
              "      <th>Servicios(Megavatios)</th>\n",
              "      <th>Comercial(Megavatios)</th>\n",
              "      <th>Publico(Megavatios)</th>\n",
              "      <th>Transporte(Megavatios)</th>\n",
              "      <th>Industria (Megavatios)</th>\n",
              "      <th>Agropecuario (Megavatios)</th>\n",
              "    </tr>\n",
              "  </thead>\n",
              "  <tbody>\n",
              "    <tr>\n",
              "      <th>0</th>\n",
              "      <td>2010</td>\n",
              "      <td>23382</td>\n",
              "      <td>6146</td>\n",
              "      <td>3513</td>\n",
              "      <td>3869</td>\n",
              "      <td>70319</td>\n",
              "      <td>37995</td>\n",
              "      <td>2854</td>\n",
              "    </tr>\n",
              "    <tr>\n",
              "      <th>1</th>\n",
              "      <td>2011</td>\n",
              "      <td>22139</td>\n",
              "      <td>6087</td>\n",
              "      <td>3479</td>\n",
              "      <td>3951</td>\n",
              "      <td>72109</td>\n",
              "      <td>36973</td>\n",
              "      <td>3092</td>\n",
              "    </tr>\n",
              "    <tr>\n",
              "      <th>2</th>\n",
              "      <td>2012</td>\n",
              "      <td>21586</td>\n",
              "      <td>6206</td>\n",
              "      <td>3636</td>\n",
              "      <td>4230</td>\n",
              "      <td>74111</td>\n",
              "      <td>37740</td>\n",
              "      <td>3242</td>\n",
              "    </tr>\n",
              "    <tr>\n",
              "      <th>3</th>\n",
              "      <td>2013</td>\n",
              "      <td>21366</td>\n",
              "      <td>6246</td>\n",
              "      <td>3870</td>\n",
              "      <td>4296</td>\n",
              "      <td>74637</td>\n",
              "      <td>38994</td>\n",
              "      <td>3273</td>\n",
              "    </tr>\n",
              "    <tr>\n",
              "      <th>4</th>\n",
              "      <td>2014</td>\n",
              "      <td>20603</td>\n",
              "      <td>6417</td>\n",
              "      <td>3980</td>\n",
              "      <td>4454</td>\n",
              "      <td>76186</td>\n",
              "      <td>39206</td>\n",
              "      <td>3254</td>\n",
              "    </tr>\n",
              "    <tr>\n",
              "      <th>5</th>\n",
              "      <td>2015</td>\n",
              "      <td>20791</td>\n",
              "      <td>6671</td>\n",
              "      <td>4114</td>\n",
              "      <td>4575</td>\n",
              "      <td>81526</td>\n",
              "      <td>38368</td>\n",
              "      <td>3327</td>\n",
              "    </tr>\n",
              "    <tr>\n",
              "      <th>6</th>\n",
              "      <td>2016</td>\n",
              "      <td>20620</td>\n",
              "      <td>7042</td>\n",
              "      <td>4306</td>\n",
              "      <td>4687</td>\n",
              "      <td>87538</td>\n",
              "      <td>39728</td>\n",
              "      <td>3584</td>\n",
              "    </tr>\n",
              "    <tr>\n",
              "      <th>7</th>\n",
              "      <td>2017</td>\n",
              "      <td>20652</td>\n",
              "      <td>7175</td>\n",
              "      <td>4322</td>\n",
              "      <td>4690</td>\n",
              "      <td>89061</td>\n",
              "      <td>40047</td>\n",
              "      <td>3761</td>\n",
              "    </tr>\n",
              "    <tr>\n",
              "      <th>8</th>\n",
              "      <td>2018</td>\n",
              "      <td>19481</td>\n",
              "      <td>7303</td>\n",
              "      <td>4464</td>\n",
              "      <td>4803</td>\n",
              "      <td>91231</td>\n",
              "      <td>39262</td>\n",
              "      <td>3337</td>\n",
              "    </tr>\n",
              "  </tbody>\n",
              "</table>\n",
              "</div>\n",
              "      <button class=\"colab-df-convert\" onclick=\"convertToInteractive('df-590cde30-9af2-456c-a75d-e5bd0b998236')\"\n",
              "              title=\"Convert this dataframe to an interactive table.\"\n",
              "              style=\"display:none;\">\n",
              "        \n",
              "  <svg xmlns=\"http://www.w3.org/2000/svg\" height=\"24px\"viewBox=\"0 0 24 24\"\n",
              "       width=\"24px\">\n",
              "    <path d=\"M0 0h24v24H0V0z\" fill=\"none\"/>\n",
              "    <path d=\"M18.56 5.44l.94 2.06.94-2.06 2.06-.94-2.06-.94-.94-2.06-.94 2.06-2.06.94zm-11 1L8.5 8.5l.94-2.06 2.06-.94-2.06-.94L8.5 2.5l-.94 2.06-2.06.94zm10 10l.94 2.06.94-2.06 2.06-.94-2.06-.94-.94-2.06-.94 2.06-2.06.94z\"/><path d=\"M17.41 7.96l-1.37-1.37c-.4-.4-.92-.59-1.43-.59-.52 0-1.04.2-1.43.59L10.3 9.45l-7.72 7.72c-.78.78-.78 2.05 0 2.83L4 21.41c.39.39.9.59 1.41.59.51 0 1.02-.2 1.41-.59l7.78-7.78 2.81-2.81c.8-.78.8-2.07 0-2.86zM5.41 20L4 18.59l7.72-7.72 1.47 1.35L5.41 20z\"/>\n",
              "  </svg>\n",
              "      </button>\n",
              "      \n",
              "  <style>\n",
              "    .colab-df-container {\n",
              "      display:flex;\n",
              "      flex-wrap:wrap;\n",
              "      gap: 12px;\n",
              "    }\n",
              "\n",
              "    .colab-df-convert {\n",
              "      background-color: #E8F0FE;\n",
              "      border: none;\n",
              "      border-radius: 50%;\n",
              "      cursor: pointer;\n",
              "      display: none;\n",
              "      fill: #1967D2;\n",
              "      height: 32px;\n",
              "      padding: 0 0 0 0;\n",
              "      width: 32px;\n",
              "    }\n",
              "\n",
              "    .colab-df-convert:hover {\n",
              "      background-color: #E2EBFA;\n",
              "      box-shadow: 0px 1px 2px rgba(60, 64, 67, 0.3), 0px 1px 3px 1px rgba(60, 64, 67, 0.15);\n",
              "      fill: #174EA6;\n",
              "    }\n",
              "\n",
              "    [theme=dark] .colab-df-convert {\n",
              "      background-color: #3B4455;\n",
              "      fill: #D2E3FC;\n",
              "    }\n",
              "\n",
              "    [theme=dark] .colab-df-convert:hover {\n",
              "      background-color: #434B5C;\n",
              "      box-shadow: 0px 1px 3px 1px rgba(0, 0, 0, 0.15);\n",
              "      filter: drop-shadow(0px 1px 2px rgba(0, 0, 0, 0.3));\n",
              "      fill: #FFFFFF;\n",
              "    }\n",
              "  </style>\n",
              "\n",
              "      <script>\n",
              "        const buttonEl =\n",
              "          document.querySelector('#df-590cde30-9af2-456c-a75d-e5bd0b998236 button.colab-df-convert');\n",
              "        buttonEl.style.display =\n",
              "          google.colab.kernel.accessAllowed ? 'block' : 'none';\n",
              "\n",
              "        async function convertToInteractive(key) {\n",
              "          const element = document.querySelector('#df-590cde30-9af2-456c-a75d-e5bd0b998236');\n",
              "          const dataTable =\n",
              "            await google.colab.kernel.invokeFunction('convertToInteractive',\n",
              "                                                     [key], {});\n",
              "          if (!dataTable) return;\n",
              "\n",
              "          const docLinkHtml = 'Like what you see? Visit the ' +\n",
              "            '<a target=\"_blank\" href=https://colab.research.google.com/notebooks/data_table.ipynb>data table notebook</a>'\n",
              "            + ' to learn more about interactive tables.';\n",
              "          element.innerHTML = '';\n",
              "          dataTable['output_type'] = 'display_data';\n",
              "          await google.colab.output.renderOutput(dataTable, element);\n",
              "          const docLink = document.createElement('div');\n",
              "          docLink.innerHTML = docLinkHtml;\n",
              "          element.appendChild(docLink);\n",
              "        }\n",
              "      </script>\n",
              "    </div>\n",
              "  </div>\n",
              "  "
            ]
          },
          "metadata": {},
          "execution_count": 124
        }
      ]
    },
    {
      "cell_type": "code",
      "source": [
        "plt.hist(final_consumption_sector)"
      ],
      "metadata": {
        "colab": {
          "base_uri": "https://localhost:8080/",
          "height": 491
        },
        "id": "Q7-VL3Kj_L8C",
        "outputId": "95ff88b3-eecd-4b31-c020-22f2b5d84787"
      },
      "execution_count": null,
      "outputs": [
        {
          "output_type": "execute_result",
          "data": {
            "text/plain": [
              "(array([[5., 0., 1., 0., 1., 0., 0., 1., 0., 0.],\n",
              "        [5., 0., 1., 1., 0., 0., 0., 1., 0., 0.],\n",
              "        [5., 0., 1., 0., 1., 0., 0., 0., 1., 0.],\n",
              "        [5., 0., 1., 0., 1., 0., 0., 0., 1., 0.],\n",
              "        [5., 0., 1., 0., 1., 0., 0., 0., 1., 0.],\n",
              "        [5., 0., 1., 0., 1., 0., 0., 0., 1., 0.],\n",
              "        [5., 0., 1., 0., 1., 0., 0., 0., 0., 1.],\n",
              "        [5., 0., 1., 0., 1., 0., 0., 0., 0., 1.],\n",
              "        [5., 1., 0., 0., 1., 0., 0., 0., 0., 1.]]),\n",
              " array([2010.0, 10932.1, 19854.2, 28776.300000000003, 37698.4, 46620.5,\n",
              "        55542.600000000006, 64464.700000000004, 73386.8, 82308.90000000001,\n",
              "        91231.0], dtype=object),\n",
              " <a list of 9 Lists of Patches objects>)"
            ]
          },
          "metadata": {},
          "execution_count": 125
        },
        {
          "output_type": "display_data",
          "data": {
            "text/plain": [
              "<Figure size 432x288 with 1 Axes>"
            ],
            "image/png": "[encoded data removed]"
          },
          "metadata": {
            "needs_background": "light"
          }
        }
      ]
    },
    {
      "cell_type": "code",
      "source": [
        "#D. Recognizing data values\n",
        "print(final_consumption_sector.dtypes)\n",
        "print('Las secuencias de caracteres pueden contener números y / o caracteres, en este caso los datos son numéricos.')"
      ],
      "metadata": {
        "colab": {
          "base_uri": "https://localhost:8080/"
        },
        "id": "gJYVUkG40YRy",
        "outputId": "6a9952e9-8ba1-44da-b7f1-8a98c46ab7ed"
      },
      "execution_count": null,
      "outputs": [
        {
          "output_type": "stream",
          "name": "stdout",
          "text": [
            "Año                          object\n",
            "Residencial(Megavatios)      object\n",
            "Servicios(Megavatios)        object\n",
            "Comercial(Megavatios)        object\n",
            "Publico(Megavatios)          object\n",
            "Transporte(Megavatios)       object\n",
            "Industria (Megavatios)       object\n",
            "Agropecuario (Megavatios)    object\n",
            "dtype: object\n",
            "Las secuencias de caracteres pueden contener números y / o caracteres, en este caso los datos son numéricos.\n"
          ]
        }
      ]
    },
    {
      "cell_type": "code",
      "source": [
        "#E.1 Scatter Graphic 1 (Residencial)\n",
        "final_consumption_sector.plot.scatter(y=\"Año\", x=\"Residencial(Megavatios)\")"
      ],
      "metadata": {
        "colab": {
          "base_uri": "https://localhost:8080/",
          "height": 296
        },
        "id": "TWBbuIy50gna",
        "outputId": "7340e3b6-2f41-4490-f141-5b44827ee186"
      },
      "execution_count": null,
      "outputs": [
        {
          "output_type": "execute_result",
          "data": {
            "text/plain": [
              "<matplotlib.axes._subplots.AxesSubplot at 0x7f70e8b01990>"
            ]
          },
          "metadata": {},
          "execution_count": 127
        },
        {
          "output_type": "display_data",
          "data": {
            "text/plain": [
              "<Figure size 432x288 with 1 Axes>"
            ],
            "image/png": "[encoded data removed]"
          },
          "metadata": {
            "needs_background": "light"
          }
        }
      ]
    },
    {
      "cell_type": "code",
      "source": [
        "#E.2 Scatter Graphic 2 (Servicios)\n",
        "final_consumption_sector.plot.scatter(y=\"Año\", x=\"Servicios(Megavatios)\")"
      ],
      "metadata": {
        "colab": {
          "base_uri": "https://localhost:8080/",
          "height": 296
        },
        "id": "M3NkKmAn08co",
        "outputId": "4e6c04d5-cf65-46f4-828f-6291d6490e1e"
      },
      "execution_count": null,
      "outputs": [
        {
          "output_type": "execute_result",
          "data": {
            "text/plain": [
              "<matplotlib.axes._subplots.AxesSubplot at 0x7f70e89f4a90>"
            ]
          },
          "metadata": {},
          "execution_count": 128
        },
        {
          "output_type": "display_data",
          "data": {
            "text/plain": [
              "<Figure size 432x288 with 1 Axes>"
            ],
            "image/png": "[encoded data removed]"
          },
          "metadata": {
            "needs_background": "light"
          }
        }
      ]
    },
    {
      "cell_type": "code",
      "source": [
        "#E.3 Scatter Graphic 3 (Residencial)\n",
        "final_consumption_sector.plot.scatter(y=\"Año\", x=\"Comercial(Megavatios)\")"
      ],
      "metadata": {
        "colab": {
          "base_uri": "https://localhost:8080/",
          "height": 296
        },
        "id": "45bpSix99gW4",
        "outputId": "f74ae56a-e5bc-46cb-b3d0-3384615ebcc8"
      },
      "execution_count": null,
      "outputs": [
        {
          "output_type": "execute_result",
          "data": {
            "text/plain": [
              "<matplotlib.axes._subplots.AxesSubplot at 0x7f70e8968210>"
            ]
          },
          "metadata": {},
          "execution_count": 129
        },
        {
          "output_type": "display_data",
          "data": {
            "text/plain": [
              "<Figure size 432x288 with 1 Axes>"
            ],
            "image/png": "[encoded data removed]"
          },
          "metadata": {
            "needs_background": "light"
          }
        }
      ]
    },
    {
      "cell_type": "code",
      "source": [
        "#E.4 Scatter Graphic 4 (Publico)\n",
        "final_consumption_sector.plot.scatter(y=\"Año\", x=\"Publico(Megavatios)\")"
      ],
      "metadata": {
        "colab": {
          "base_uri": "https://localhost:8080/",
          "height": 296
        },
        "id": "lGhe2P649p9h",
        "outputId": "f0bdb52e-60f9-4897-91fc-693fbbdfca49"
      },
      "execution_count": null,
      "outputs": [
        {
          "output_type": "execute_result",
          "data": {
            "text/plain": [
              "<matplotlib.axes._subplots.AxesSubplot at 0x7f70e896fe10>"
            ]
          },
          "metadata": {},
          "execution_count": 130
        },
        {
          "output_type": "display_data",
          "data": {
            "text/plain": [
              "<Figure size 432x288 with 1 Axes>"
            ],
            "image/png": "[encoded data removed]"
          },
          "metadata": {
            "needs_background": "light"
          }
        }
      ]
    },
    {
      "cell_type": "code",
      "source": [
        "#E.5 Scatter Graphic 5 (Transporte)\n",
        "final_consumption_sector.plot.scatter(y=\"Año\", x=\"Transporte(Megavatios)\")"
      ],
      "metadata": {
        "colab": {
          "base_uri": "https://localhost:8080/",
          "height": 296
        },
        "id": "4B7PIHXQ-ETH",
        "outputId": "c01aa35e-cb78-4068-974d-7e3431a642bf"
      },
      "execution_count": null,
      "outputs": [
        {
          "output_type": "execute_result",
          "data": {
            "text/plain": [
              "<matplotlib.axes._subplots.AxesSubplot at 0x7f70e88c7ed0>"
            ]
          },
          "metadata": {},
          "execution_count": 131
        },
        {
          "output_type": "display_data",
          "data": {
            "text/plain": [
              "<Figure size 432x288 with 1 Axes>"
            ],
            "image/png": "[encoded data removed]"
          },
          "metadata": {
            "needs_background": "light"
          }
        }
      ]
    },
    {
      "cell_type": "code",
      "source": [
        "#E.6 Scatter Graphic 6 (Industria)\n",
        "final_consumption_sector.plot.scatter(y=\"Año\", x=\"Industria (Megavatios)\")"
      ],
      "metadata": {
        "colab": {
          "base_uri": "https://localhost:8080/",
          "height": 296
        },
        "id": "BDkNoKc7-WK1",
        "outputId": "e6d7b74c-e899-47f7-c747-a26d49f09731"
      },
      "execution_count": null,
      "outputs": [
        {
          "output_type": "execute_result",
          "data": {
            "text/plain": [
              "<matplotlib.axes._subplots.AxesSubplot at 0x7f70e882a5d0>"
            ]
          },
          "metadata": {},
          "execution_count": 132
        },
        {
          "output_type": "display_data",
          "data": {
            "text/plain": [
              "<Figure size 432x288 with 1 Axes>"
            ],
            "image/png": "[encoded data removed]"
          },
          "metadata": {
            "needs_background": "light"
          }
        }
      ]
    },
    {
      "cell_type": "code",
      "source": [
        "#E.7 Scatter Graphic 7 (Agropecuario)\n",
        "final_consumption_sector.plot.scatter(y=\"Año\", x=\"Agropecuario (Megavatios)\")"
      ],
      "metadata": {
        "colab": {
          "base_uri": "https://localhost:8080/",
          "height": 296
        },
        "id": "vbT0K2Du-yKW",
        "outputId": "1df4f4a5-6a54-47e1-cd1b-f3ac1ff0f66c"
      },
      "execution_count": null,
      "outputs": [
        {
          "output_type": "execute_result",
          "data": {
            "text/plain": [
              "<matplotlib.axes._subplots.AxesSubplot at 0x7f70e92086d0>"
            ]
          },
          "metadata": {},
          "execution_count": 133
        },
        {
          "output_type": "display_data",
          "data": {
            "text/plain": [
              "<Figure size 432x288 with 1 Axes>"
            ],
            "image/png": "[encoded data removed]"
          },
          "metadata": {
            "needs_background": "light"
          }
        }
      ]
    },
    {
      "cell_type": "markdown",
      "source": [
        "# **Conclusions**\n",
        "\n",
        "Costa Rica reached a 99% on renewable energy production in the year 2019, hydrolectric plants being the main source. On other countries like Mexico, Colombia or Germany wind, solar, and biomass energy stand out.\n",
        "\n",
        "The year where most energy was produced in the country was 2019, followed by 2018, taking into consideration that the predominant energy supply is hydroelectric energy (constitues a 80% of the total energy production in the country), followed by wind energy.\n",
        "\n",
        "Due to restrictions governed by the Costa Rican Electricity Institute (ICE by its Spanish acronym), the energy source with less consumption is solar energy, due to the fact that making use of solar energy takes away the opportunity to charge customers for electrical services, thus resulting with less clients. This is quite engaging, since countries in Europe and the United States are actually increasing the usage of energy through these renewable methods.   \n",
        "\n",
        "Even though there's room for improvement, Costa Rica doesn't stop being a country where there is constant propaganda and pushing for renewable enery usage. In fact, there are organizations like the PPCN (Programa País de Carbono Neutralidad) which seeks to encourage organizations like factories, educational centers, communities and companies to reach carbon neutrality through a five-step program. It is crucial for a country's development to pay special attention to actions that counter climate change and promote a better future for generations to come."
      ],
      "metadata": {
        "id": "eLLyEgp5XEsY"
      }
    }
  ]
}