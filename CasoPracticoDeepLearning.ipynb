{
  "nbformat": 4,
  "nbformat_minor": 0,
  "metadata": {
    "colab": {
      "private_outputs": true,
      "provenance": [],
      "collapsed_sections": [
        "jW8D_Wbrlwux",
        "x3nH9ojsl97f",
        "tdYP9VbjmPJR",
        "KEHyLJOhn0up",
        "t308FaNDoQDk",
        "TWGE0_CSohBQ",
        "CMv7XJtLpGps",
        "MGxveOA3slNX",
        "8c4OemEassuH",
        "DNc7uxAMs3l0",
        "nVp5kTS0tBJQ",
        "baQqjJwstKmy",
        "8D3lJxCCteda"
      ],
      "authorship_tag": "ABX9TyOdYMyNFcw/1rBU3EFYf1qa",
      "include_colab_link": true
    },
    "kernelspec": {
      "name": "python3",
      "display_name": "Python 3"
    },
    "language_info": {
      "name": "python"
    }
  },
  "cells": [
    {
      "cell_type": "markdown",
      "metadata": {
        "id": "view-in-github",
        "colab_type": "text"
      },
      "source": [
        "<a href=\"https://colab.research.google.com/github/Joelss23/Proyectos-y-Actividades/blob/main/CasoPracticoDeepLearning.ipynb\" target=\"_parent\"><img src=\"https://colab.research.google.com/assets/colab-badge.svg\" alt=\"Open In Colab\"/></a>"
      ]
    },
    {
      "cell_type": "markdown",
      "source": [
        "#Caso Practico Final Deep Learning Joel Adrian Yari"
      ],
      "metadata": {
        "id": "QoS3Q4qSlmmP"
      }
    },
    {
      "cell_type": "markdown",
      "source": [
        "##Librerias"
      ],
      "metadata": {
        "id": "jW8D_Wbrlwux"
      }
    },
    {
      "cell_type": "code",
      "source": [
        "import pandas as pd\n",
        "import numpy as np\n",
        "from sklearn.model_selection import train_test_split\n",
        "from sklearn.preprocessing import MinMaxScaler\n",
        "import tensorflow as tf\n",
        "from tensorflow.keras.models import Sequential\n",
        "from tensorflow.keras.layers import Dense, Dropout\n",
        "from sklearn.metrics import mean_squared_error\n",
        "import matplotlib.pyplot as plt"
      ],
      "metadata": {
        "id": "qnbbm9g-l7U7"
      },
      "execution_count": null,
      "outputs": []
    },
    {
      "cell_type": "markdown",
      "source": [
        "## 1. Cargar ambos ficheros dados"
      ],
      "metadata": {
        "id": "x3nH9ojsl97f"
      }
    },
    {
      "cell_type": "code",
      "source": [
        "train = pd.read_csv('train_v2.csv')\n",
        "test = pd.read_csv('test_v2.csv')"
      ],
      "metadata": {
        "id": "rdSwWJqdmH9O"
      },
      "execution_count": null,
      "outputs": []
    },
    {
      "cell_type": "markdown",
      "source": [
        "## 2. Análisis exploratorio: identificar valores desconocidos, filas duplicadas y estadísticos de las variables del conjunto de datos"
      ],
      "metadata": {
        "id": "tdYP9VbjmPJR"
      }
    },
    {
      "cell_type": "code",
      "source": [
        "#Valores Nulos\n",
        "print(\"Valores nulos por columna:\")\n",
        "print(train.isnull().sum())"
      ],
      "metadata": {
        "id": "b6xAHc5bmUEt"
      },
      "execution_count": null,
      "outputs": []
    },
    {
      "cell_type": "code",
      "source": [
        "#Filas Duplicadas\n",
        "print(\"Filas duplicadas:\", train.duplicated().sum())"
      ],
      "metadata": {
        "id": "Pw1J2NmSmcRK"
      },
      "execution_count": null,
      "outputs": []
    },
    {
      "cell_type": "code",
      "source": [
        "#Tipo de datos\n",
        "print(\"Tipo de datos:\")\n",
        "for column in train.columns:\n",
        "    print(f\"{column}: {train[column].dtype}\")"
      ],
      "metadata": {
        "id": "CN18XxLymoEr"
      },
      "execution_count": null,
      "outputs": []
    },
    {
      "cell_type": "code",
      "source": [
        "#Visualizacion preeliminar de los datos\n",
        "with pd.option_context('display.max_columns', None):\n",
        "  print(train.head())"
      ],
      "metadata": {
        "id": "V0vD-l1OnaL2"
      },
      "execution_count": null,
      "outputs": []
    },
    {
      "cell_type": "code",
      "source": [
        "#Estadisticas Descriptivas\n",
        "print(\"Estadisticas descriptivas:\")\n",
        "print(train.describe())"
      ],
      "metadata": {
        "id": "fovo-v-PmeIG"
      },
      "execution_count": null,
      "outputs": []
    },
    {
      "cell_type": "markdown",
      "source": [
        "## 3. Ingeniería de variables: crear una variable"
      ],
      "metadata": {
        "id": "KEHyLJOhn0up"
      }
    },
    {
      "cell_type": "code",
      "source": [
        "train['TotalSF'] = train['TotalBsmtSF'] + train['1stFlrSF'] + train['2ndFlrSF']\n",
        "test['TotalSF'] = test['TotalBsmtSF'] + test['1stFlrSF'] + test['2ndFlrSF']"
      ],
      "metadata": {
        "id": "dkVsL2XYn31x"
      },
      "execution_count": null,
      "outputs": []
    },
    {
      "cell_type": "markdown",
      "source": [
        "## 4. Eliminar las variables de entrada no numéricas"
      ],
      "metadata": {
        "id": "t308FaNDoQDk"
      }
    },
    {
      "cell_type": "code",
      "source": [
        "train_numeric = train.select_dtypes(include=[np.number])\n",
        "test_numeric = test.select_dtypes(include=[np.number])"
      ],
      "metadata": {
        "id": "ao4YDee4ocoK"
      },
      "execution_count": null,
      "outputs": []
    },
    {
      "cell_type": "markdown",
      "source": [
        "## 5. Eliminar la(s) variable(s) de entrada que no tengan sentido lógico para realizar la predicción"
      ],
      "metadata": {
        "id": "TWGE0_CSohBQ"
      }
    },
    {
      "cell_type": "code",
      "source": [
        "train_numeric = train_numeric.drop(columns=['Id'], errors='ignore')\n",
        "test_numeric = test_numeric.drop(columns=['Id'], errors='ignore')"
      ],
      "metadata": {
        "id": "SNy0O20MokJT"
      },
      "execution_count": null,
      "outputs": []
    },
    {
      "cell_type": "markdown",
      "source": [
        "## 6. Normalizar variables de entrada mediante min-max"
      ],
      "metadata": {
        "id": "CMv7XJtLpGps"
      }
    },
    {
      "cell_type": "code",
      "source": [
        "# Separar variables independientes y la dependiente\n",
        "X = train_numeric.drop(columns=['SalePrice'])\n",
        "y = train_numeric['SalePrice']\n",
        "\n",
        "# Rellenar valores faltantes con la media\n",
        "X = X.fillna(X.mean())\n",
        "test_numeric = test_numeric.fillna(X.mean())\n",
        "\n",
        "#Normalización\n",
        "scaler = MinMaxScaler()\n",
        "X_scaled = scaler.fit_transform(X)\n",
        "\n",
        "X_test = test_numeric.drop(columns=['SalePrice'], errors='ignore')\n",
        "test_scaled = scaler.transform(X_test)"
      ],
      "metadata": {
        "id": "_5WU-Rz3pILm"
      },
      "execution_count": null,
      "outputs": []
    },
    {
      "cell_type": "markdown",
      "source": [
        "## 7. Dividir los datos de entrenamiento en Train (80%) y Validation (20%)"
      ],
      "metadata": {
        "id": "MGxveOA3slNX"
      }
    },
    {
      "cell_type": "code",
      "source": [
        "X_train, X_val, y_train, y_val = train_test_split(X_scaled, y, test_size=0.2, random_state=42)"
      ],
      "metadata": {
        "id": "sKqK_ZDxsp5U"
      },
      "execution_count": null,
      "outputs": []
    },
    {
      "cell_type": "markdown",
      "source": [
        "## 8. Crear una Red Neuronal con 2 capas ocultas, 200 neuronas en cada capa y función de activación ReLu"
      ],
      "metadata": {
        "id": "8c4OemEassuH"
      }
    },
    {
      "cell_type": "code",
      "source": [
        "def build_model(dropout_rate=0.0):\n",
        "    model = Sequential()\n",
        "    model.add(Dense(200, input_dim=X_train.shape[1], activation='relu'))\n",
        "    if dropout_rate > 0:\n",
        "        model.add(Dropout(dropout_rate))\n",
        "    model.add(Dense(200, activation='relu'))\n",
        "    if dropout_rate > 0:\n",
        "        model.add(Dropout(dropout_rate))\n",
        "    model.add(Dense(1))\n",
        "    model.compile(optimizer='adam', loss='mse')\n",
        "    return model"
      ],
      "metadata": {
        "id": "YNgbdYGosv0X"
      },
      "execution_count": null,
      "outputs": []
    },
    {
      "cell_type": "markdown",
      "source": [
        "## 9. Entrenar el algoritmo utilizando la métrica RMSE como función de coste"
      ],
      "metadata": {
        "id": "DNc7uxAMs3l0"
      }
    },
    {
      "cell_type": "code",
      "source": [
        "model = build_model()\n",
        "history = model.fit(X_train, y_train, validation_data=(X_val, y_val), epochs=100, verbose=0)"
      ],
      "metadata": {
        "id": "dKhbTORWs9GM"
      },
      "execution_count": null,
      "outputs": []
    },
    {
      "cell_type": "markdown",
      "source": [
        "## 10. Evaluar la predicción en Test"
      ],
      "metadata": {
        "id": "nVp5kTS0tBJQ"
      }
    },
    {
      "cell_type": "code",
      "source": [
        "train_preds = model.predict(X_train)\n",
        "val_preds = model.predict(X_val)\n",
        "\n",
        "rmse_train = np.sqrt(mean_squared_error(y_train, train_preds))\n",
        "rmse_val = np.sqrt(mean_squared_error(y_val, val_preds))\n",
        "print(f\"RMSE en entrenamiento: {rmse_train:.2f}\")\n",
        "print(f\"RMSE en validacion: {rmse_val:.2f}\")"
      ],
      "metadata": {
        "id": "LjvgCs6utDgc"
      },
      "execution_count": null,
      "outputs": []
    },
    {
      "cell_type": "code",
      "source": [
        "# Visualizacion del aprendizaje\n",
        "plt.figure(figsize=(10, 5))\n",
        "plt.plot(history.history['loss'], label='Perdida de entrenamiento')\n",
        "plt.plot(history.history['val_loss'], label='Perdida de validacion')\n",
        "plt.title('Curva de perdida durante el entrenamiento')\n",
        "plt.xlabel('Epoca')\n",
        "plt.ylabel('MSE')\n",
        "plt.legend()\n",
        "plt.grid(True)\n",
        "plt.show()"
      ],
      "metadata": {
        "id": "HdYeBCqitOz5"
      },
      "execution_count": null,
      "outputs": []
    },
    {
      "cell_type": "markdown",
      "source": [
        "## 11. Crear una arquitectura que produzca overfit"
      ],
      "metadata": {
        "id": "baQqjJwstKmy"
      }
    },
    {
      "cell_type": "code",
      "source": [
        "overfit_model = Sequential([\n",
        "    Dense(400, input_dim=X_train.shape[1], activation='relu'),\n",
        "    Dense(400, activation='relu'),\n",
        "    Dense(1)\n",
        "])\n",
        "overfit_model.compile(optimizer='adam', loss='mse')\n",
        "overfit_history = overfit_model.fit(X_train, y_train, validation_data=(X_val, y_val), epochs=100, verbose=0)"
      ],
      "metadata": {
        "id": "EM8VKStatjQq"
      },
      "execution_count": null,
      "outputs": []
    },
    {
      "cell_type": "code",
      "source": [
        "#Visualizacion del overfitting\n",
        "plt.figure(figsize=(10, 5))\n",
        "plt.plot(overfit_history.history['loss'], label='Overfit - entrenamiento')\n",
        "plt.plot(overfit_history.history['val_loss'], label='Overfit - validacion')\n",
        "plt.title('Curva de perdida - Overfitting')\n",
        "plt.xlabel('Epoca')\n",
        "plt.ylabel('MSE')\n",
        "plt.legend()\n",
        "plt.grid(True)\n",
        "plt.show()"
      ],
      "metadata": {
        "id": "kVbDNg-Ptn76"
      },
      "execution_count": null,
      "outputs": []
    },
    {
      "cell_type": "markdown",
      "source": [
        "## 12. Probar 3 ejemplos con distintas regularizaciones y identificar la que mejor funciona"
      ],
      "metadata": {
        "id": "8D3lJxCCteda"
      }
    },
    {
      "cell_type": "code",
      "source": [
        "#Regularización con Dropout\n",
        "dropouts = [0.2, 0.4, 0.6]\n",
        "for rate in dropouts:\n",
        "    print(f\"Entrenando modelo con Dropout = {rate}\")\n",
        "    reg_model = build_model(dropout_rate=rate)\n",
        "    reg_history = reg_model.fit(X_train, y_train, validation_data=(X_val, y_val), epochs=100, verbose=0)\n",
        "    val_preds = reg_model.predict(X_val)\n",
        "    rmse_val = np.sqrt(mean_squared_error(y_val, val_preds))\n",
        "    print(f\"RMSE en validacion con Dropout {rate}: {rmse_val:.2f}\")\n",
        "\n",
        "    # Visualizar cada entrenamiento con dropout\n",
        "    plt.figure(figsize=(10, 5))\n",
        "    plt.plot(reg_history.history['loss'], label='Entrenamiento')\n",
        "    plt.plot(reg_history.history['val_loss'], label='Validacion')\n",
        "    plt.title(f'Curva de perdida - Dropout {rate}')\n",
        "    plt.xlabel('Epoca')\n",
        "    plt.ylabel('MSE')\n",
        "    plt.legend()\n",
        "    plt.grid(True)\n",
        "    plt.show()\n"
      ],
      "metadata": {
        "id": "iQSjoFGRt4zo"
      },
      "execution_count": null,
      "outputs": []
    }
  ]
}